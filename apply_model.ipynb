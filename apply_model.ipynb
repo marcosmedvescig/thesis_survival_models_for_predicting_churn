{
  "nbformat": 4,
  "nbformat_minor": 0,
  "metadata": {
    "colab": {
      "name": "apply_model.ipynb",
      "provenance": [],
      "collapsed_sections": [],
      "authorship_tag": "ABX9TyNKxX2nlGzsHAysGO0ncK8A",
      "include_colab_link": true
    },
    "kernelspec": {
      "name": "python3",
      "display_name": "Python 3"
    }
  },
  "cells": [
    {
      "cell_type": "markdown",
      "metadata": {
        "id": "view-in-github",
        "colab_type": "text"
      },
      "source": [
        "<a href=\"https://colab.research.google.com/github/marcosmedvescig/thesis_survival_models_for_predicting_churn/blob/master/apply_model.ipynb\" target=\"_parent\"><img src=\"https://colab.research.google.com/assets/colab-badge.svg\" alt=\"Open In Colab\"/></a>"
      ]
    },
    {
      "cell_type": "markdown",
      "metadata": {
        "id": "-Swk317C_wXv",
        "colab_type": "text"
      },
      "source": [
        "# Applying model to business solution"
      ]
    },
    {
      "cell_type": "markdown",
      "metadata": {
        "id": "Qy0qFYtc_0X3",
        "colab_type": "text"
      },
      "source": [
        "## Install libraries\n",
        "\n",
        "Note: After installing the libraries for the first time restart the runtime for the new versions of the library to be loaded."
      ]
    },
    {
      "cell_type": "code",
      "metadata": {
        "id": "omrB8HW9_bXx",
        "colab_type": "code",
        "colab": {
          "base_uri": "https://localhost:8080/",
          "height": 1000
        },
        "outputId": "6ea1c896-7e5f-453e-eff3-83ca03ed51e1"
      },
      "source": [
        "## Install libraries\n",
        "!pip install pysurvival=='0.1.2'\n",
        "!pip install scikit-survival=='0.13.1'\n",
        "!pip install osqp=='0.5.0'"
      ],
      "execution_count": 1,
      "outputs": [
        {
          "output_type": "stream",
          "text": [
            "Collecting pysurvival==0.1.2\n",
            "\u001b[?25l  Downloading https://files.pythonhosted.org/packages/13/dd/d7bf69b6e1e0d1cd243b39577867c15d092404d5bc7afef3ae135b50717f/pysurvival-0.1.2.tar.gz (4.7MB)\n",
            "\u001b[K     |████████████████████████████████| 4.8MB 8.8MB/s \n",
            "\u001b[?25hRequirement already satisfied: matplotlib in /usr/local/lib/python3.6/dist-packages (from pysurvival==0.1.2) (3.2.2)\n",
            "Requirement already satisfied: numpy in /usr/local/lib/python3.6/dist-packages (from pysurvival==0.1.2) (1.18.5)\n",
            "Requirement already satisfied: pandas in /usr/local/lib/python3.6/dist-packages (from pysurvival==0.1.2) (1.0.5)\n",
            "Requirement already satisfied: pip in /usr/local/lib/python3.6/dist-packages (from pysurvival==0.1.2) (19.3.1)\n",
            "Collecting progressbar\n",
            "  Downloading https://files.pythonhosted.org/packages/a3/a6/b8e451f6cff1c99b4747a2f7235aa904d2d49e8e1464e0b798272aa84358/progressbar-2.5.tar.gz\n",
            "Requirement already satisfied: pyarrow in /usr/local/lib/python3.6/dist-packages (from pysurvival==0.1.2) (0.14.1)\n",
            "Requirement already satisfied: scikit-learn in /usr/local/lib/python3.6/dist-packages (from pysurvival==0.1.2) (0.22.2.post1)\n",
            "Requirement already satisfied: scipy in /usr/local/lib/python3.6/dist-packages (from pysurvival==0.1.2) (1.4.1)\n",
            "Requirement already satisfied: sklearn in /usr/local/lib/python3.6/dist-packages (from pysurvival==0.1.2) (0.0)\n",
            "Requirement already satisfied: torch in /usr/local/lib/python3.6/dist-packages (from pysurvival==0.1.2) (1.6.0+cu101)\n",
            "Requirement already satisfied: python-dateutil>=2.1 in /usr/local/lib/python3.6/dist-packages (from matplotlib->pysurvival==0.1.2) (2.8.1)\n",
            "Requirement already satisfied: pyparsing!=2.0.4,!=2.1.2,!=2.1.6,>=2.0.1 in /usr/local/lib/python3.6/dist-packages (from matplotlib->pysurvival==0.1.2) (2.4.7)\n",
            "Requirement already satisfied: cycler>=0.10 in /usr/local/lib/python3.6/dist-packages (from matplotlib->pysurvival==0.1.2) (0.10.0)\n",
            "Requirement already satisfied: kiwisolver>=1.0.1 in /usr/local/lib/python3.6/dist-packages (from matplotlib->pysurvival==0.1.2) (1.2.0)\n",
            "Requirement already satisfied: pytz>=2017.2 in /usr/local/lib/python3.6/dist-packages (from pandas->pysurvival==0.1.2) (2018.9)\n",
            "Requirement already satisfied: six>=1.0.0 in /usr/local/lib/python3.6/dist-packages (from pyarrow->pysurvival==0.1.2) (1.15.0)\n",
            "Requirement already satisfied: joblib>=0.11 in /usr/local/lib/python3.6/dist-packages (from scikit-learn->pysurvival==0.1.2) (0.16.0)\n",
            "Requirement already satisfied: future in /usr/local/lib/python3.6/dist-packages (from torch->pysurvival==0.1.2) (0.16.0)\n",
            "Building wheels for collected packages: pysurvival, progressbar\n",
            "  Building wheel for pysurvival (setup.py) ... \u001b[?25l\u001b[?25hdone\n",
            "  Created wheel for pysurvival: filename=pysurvival-0.1.2-cp36-cp36m-linux_x86_64.whl size=3774901 sha256=a409e2a2ce5eb75de8c9a162b73c92161184abeac4a4ab012923b2d29bb76c3f\n",
            "  Stored in directory: /root/.cache/pip/wheels/6c/23/e8/6feb0c4432219666bdd5d33828d7d9f429c4726f34c6fa8061\n",
            "  Building wheel for progressbar (setup.py) ... \u001b[?25l\u001b[?25hdone\n",
            "  Created wheel for progressbar: filename=progressbar-2.5-cp36-none-any.whl size=12074 sha256=2a8389b460c70c71a9e52e9d6a25be935c0ec6f3142aaac83446ab9096c6b643\n",
            "  Stored in directory: /root/.cache/pip/wheels/c0/e9/6b/ea01090205e285175842339aa3b491adeb4015206cda272ff0\n",
            "Successfully built pysurvival progressbar\n",
            "Installing collected packages: progressbar, pysurvival\n",
            "Successfully installed progressbar-2.5 pysurvival-0.1.2\n",
            "Collecting scikit-survival==0.13.1\n",
            "\u001b[?25l  Downloading https://files.pythonhosted.org/packages/60/8a/46782be432e93ce74af46b8e8ee4be74df6edfb86c619742fa4265a7c69a/scikit-survival-0.13.1.tar.gz (1.8MB)\n",
            "\u001b[K     |████████████████████████████████| 1.8MB 8.0MB/s \n",
            "\u001b[?25h  Installing build dependencies ... \u001b[?25l\u001b[?25hdone\n",
            "  Getting requirements to build wheel ... \u001b[?25l\u001b[?25hdone\n",
            "    Preparing wheel metadata ... \u001b[?25l\u001b[?25hdone\n",
            "Requirement already satisfied: scikit-learn<0.24,>=0.22.0 in /usr/local/lib/python3.6/dist-packages (from scikit-survival==0.13.1) (0.22.2.post1)\n",
            "Requirement already satisfied: cvxpy>=1.0 in /usr/local/lib/python3.6/dist-packages (from scikit-survival==0.13.1) (1.0.31)\n",
            "Requirement already satisfied: pandas>=0.21 in /usr/local/lib/python3.6/dist-packages (from scikit-survival==0.13.1) (1.0.5)\n",
            "Collecting osqp!=0.6.0,!=0.6.1\n",
            "\u001b[?25l  Downloading https://files.pythonhosted.org/packages/c0/01/8becb29b0d38e0c40eab9e3d54aa8138fa62a010d519caf65e9210021bd3/osqp-0.5.0-cp36-cp36m-manylinux1_x86_64.whl (147kB)\n",
            "\u001b[K     |████████████████████████████████| 153kB 45.5MB/s \n",
            "\u001b[?25hRequirement already satisfied: joblib in /usr/local/lib/python3.6/dist-packages (from scikit-survival==0.13.1) (0.16.0)\n",
            "Requirement already satisfied: numexpr in /usr/local/lib/python3.6/dist-packages (from scikit-survival==0.13.1) (2.7.1)\n",
            "Requirement already satisfied: scipy!=1.3.0,>=1.0 in /usr/local/lib/python3.6/dist-packages (from scikit-survival==0.13.1) (1.4.1)\n",
            "Requirement already satisfied: cvxopt in /usr/local/lib/python3.6/dist-packages (from scikit-survival==0.13.1) (1.2.5)\n",
            "Requirement already satisfied: numpy in /usr/local/lib/python3.6/dist-packages (from scikit-survival==0.13.1) (1.18.5)\n",
            "Requirement already satisfied: scs>=1.1.3 in /usr/local/lib/python3.6/dist-packages (from cvxpy>=1.0->scikit-survival==0.13.1) (2.1.2)\n",
            "Requirement already satisfied: ecos>=2 in /usr/local/lib/python3.6/dist-packages (from cvxpy>=1.0->scikit-survival==0.13.1) (2.0.7.post1)\n",
            "Requirement already satisfied: multiprocess in /usr/local/lib/python3.6/dist-packages (from cvxpy>=1.0->scikit-survival==0.13.1) (0.70.10)\n",
            "Requirement already satisfied: pytz>=2017.2 in /usr/local/lib/python3.6/dist-packages (from pandas>=0.21->scikit-survival==0.13.1) (2018.9)\n",
            "Requirement already satisfied: python-dateutil>=2.6.1 in /usr/local/lib/python3.6/dist-packages (from pandas>=0.21->scikit-survival==0.13.1) (2.8.1)\n",
            "Requirement already satisfied: future in /usr/local/lib/python3.6/dist-packages (from osqp!=0.6.0,!=0.6.1->scikit-survival==0.13.1) (0.16.0)\n",
            "Requirement already satisfied: dill>=0.3.2 in /usr/local/lib/python3.6/dist-packages (from multiprocess->cvxpy>=1.0->scikit-survival==0.13.1) (0.3.2)\n",
            "Requirement already satisfied: six>=1.5 in /usr/local/lib/python3.6/dist-packages (from python-dateutil>=2.6.1->pandas>=0.21->scikit-survival==0.13.1) (1.15.0)\n",
            "Building wheels for collected packages: scikit-survival\n",
            "  Building wheel for scikit-survival (PEP 517) ... \u001b[?25l\u001b[?25hdone\n",
            "  Created wheel for scikit-survival: filename=scikit_survival-0.13.1-cp36-cp36m-linux_x86_64.whl size=4119193 sha256=74373d270cc206e7d003ff16e9c20ca8d6ee2453aca7d61a2970dc132463e661\n",
            "  Stored in directory: /root/.cache/pip/wheels/3d/24/e0/fe0e4a26f30e20aee3b2118db721c39f0f5be5e50db2ccbf27\n",
            "Successfully built scikit-survival\n",
            "Installing collected packages: osqp, scikit-survival\n",
            "  Found existing installation: osqp 0.6.1\n",
            "    Uninstalling osqp-0.6.1:\n",
            "      Successfully uninstalled osqp-0.6.1\n",
            "Successfully installed osqp-0.5.0 scikit-survival-0.13.1\n",
            "Requirement already satisfied: osqp==0.5.0 in /usr/local/lib/python3.6/dist-packages (0.5.0)\n",
            "Requirement already satisfied: scipy>=0.13.2 in /usr/local/lib/python3.6/dist-packages (from osqp==0.5.0) (1.4.1)\n",
            "Requirement already satisfied: future in /usr/local/lib/python3.6/dist-packages (from osqp==0.5.0) (0.16.0)\n",
            "Requirement already satisfied: numpy>=1.7 in /usr/local/lib/python3.6/dist-packages (from osqp==0.5.0) (1.18.5)\n"
          ],
          "name": "stdout"
        }
      ]
    },
    {
      "cell_type": "markdown",
      "metadata": {
        "id": "U1A8wi6v__Bd",
        "colab_type": "text"
      },
      "source": [
        "## Load Data"
      ]
    },
    {
      "cell_type": "code",
      "metadata": {
        "id": "Q_Qco0PgvtAn",
        "colab_type": "code",
        "colab": {
          "base_uri": "https://localhost:8080/",
          "height": 195
        },
        "outputId": "c3e5f7c7-3936-4324-f934-6f1b568e52ad"
      },
      "source": [
        "import pandas as pd\n",
        "import numpy as np\n",
        "import os\n",
        "\n",
        "# Open dataset\n",
        "raw_data = pd.read_csv('https://github.com/marcosmedvescig/thesis_survival_models_for_predicting_churn/raw/master/churn_data_anonymized_20200718.csv')\n",
        "raw_data.rename(columns={'survival_days': 'time', 'status': 'event'},inplace=True)\n",
        "\n",
        "raw_data.head()"
      ],
      "execution_count": 9,
      "outputs": [
        {
          "output_type": "execute_result",
          "data": {
            "text/html": [
              "<div>\n",
              "<style scoped>\n",
              "    .dataframe tbody tr th:only-of-type {\n",
              "        vertical-align: middle;\n",
              "    }\n",
              "\n",
              "    .dataframe tbody tr th {\n",
              "        vertical-align: top;\n",
              "    }\n",
              "\n",
              "    .dataframe thead th {\n",
              "        text-align: right;\n",
              "    }\n",
              "</style>\n",
              "<table border=\"1\" class=\"dataframe\">\n",
              "  <thead>\n",
              "    <tr style=\"text-align: right;\">\n",
              "      <th></th>\n",
              "      <th>store_id</th>\n",
              "      <th>time</th>\n",
              "      <th>event</th>\n",
              "      <th>country</th>\n",
              "      <th>max_segment</th>\n",
              "      <th>creation_platform</th>\n",
              "      <th>products_created</th>\n",
              "      <th>admin_visits</th>\n",
              "      <th>source</th>\n",
              "      <th>seller_probability</th>\n",
              "      <th>tx</th>\n",
              "      <th>gmv_usd</th>\n",
              "    </tr>\n",
              "  </thead>\n",
              "  <tbody>\n",
              "    <tr>\n",
              "      <th>0</th>\n",
              "      <td>1842269723731683560</td>\n",
              "      <td>261</td>\n",
              "      <td>1</td>\n",
              "      <td>A</td>\n",
              "      <td>B</td>\n",
              "      <td>A</td>\n",
              "      <td>-0.080154</td>\n",
              "      <td>-0.161978</td>\n",
              "      <td>I</td>\n",
              "      <td>1.014303</td>\n",
              "      <td>-0.042809</td>\n",
              "      <td>-0.071061</td>\n",
              "    </tr>\n",
              "    <tr>\n",
              "      <th>1</th>\n",
              "      <td>4773050910207726165</td>\n",
              "      <td>107</td>\n",
              "      <td>1</td>\n",
              "      <td>A</td>\n",
              "      <td>C</td>\n",
              "      <td>A</td>\n",
              "      <td>0.012447</td>\n",
              "      <td>0.566017</td>\n",
              "      <td>I</td>\n",
              "      <td>-0.214408</td>\n",
              "      <td>-0.076793</td>\n",
              "      <td>-0.092084</td>\n",
              "    </tr>\n",
              "    <tr>\n",
              "      <th>2</th>\n",
              "      <td>4171477716070775996</td>\n",
              "      <td>102</td>\n",
              "      <td>0</td>\n",
              "      <td>C</td>\n",
              "      <td>A</td>\n",
              "      <td>A</td>\n",
              "      <td>-0.075205</td>\n",
              "      <td>2.295003</td>\n",
              "      <td>A</td>\n",
              "      <td>-0.467481</td>\n",
              "      <td>0.602888</td>\n",
              "      <td>0.209250</td>\n",
              "    </tr>\n",
              "    <tr>\n",
              "      <th>3</th>\n",
              "      <td>-558102186785033374</td>\n",
              "      <td>101</td>\n",
              "      <td>1</td>\n",
              "      <td>C</td>\n",
              "      <td>C</td>\n",
              "      <td>A</td>\n",
              "      <td>-0.078033</td>\n",
              "      <td>-0.935472</td>\n",
              "      <td>A</td>\n",
              "      <td>-0.574383</td>\n",
              "      <td>-0.110777</td>\n",
              "      <td>-0.106463</td>\n",
              "    </tr>\n",
              "    <tr>\n",
              "      <th>4</th>\n",
              "      <td>-2987486431769169084</td>\n",
              "      <td>444</td>\n",
              "      <td>0</td>\n",
              "      <td>A</td>\n",
              "      <td>B</td>\n",
              "      <td>A</td>\n",
              "      <td>-0.063189</td>\n",
              "      <td>0.611516</td>\n",
              "      <td>I</td>\n",
              "      <td>1.614260</td>\n",
              "      <td>-0.099449</td>\n",
              "      <td>-0.103126</td>\n",
              "    </tr>\n",
              "  </tbody>\n",
              "</table>\n",
              "</div>"
            ],
            "text/plain": [
              "              store_id  time  event  ... seller_probability        tx   gmv_usd\n",
              "0  1842269723731683560   261      1  ...           1.014303 -0.042809 -0.071061\n",
              "1  4773050910207726165   107      1  ...          -0.214408 -0.076793 -0.092084\n",
              "2  4171477716070775996   102      0  ...          -0.467481  0.602888  0.209250\n",
              "3  -558102186785033374   101      1  ...          -0.574383 -0.110777 -0.106463\n",
              "4 -2987486431769169084   444      0  ...           1.614260 -0.099449 -0.103126\n",
              "\n",
              "[5 rows x 12 columns]"
            ]
          },
          "metadata": {
            "tags": []
          },
          "execution_count": 9
        }
      ]
    },
    {
      "cell_type": "markdown",
      "metadata": {
        "id": "CbmPROGhADDZ",
        "colab_type": "text"
      },
      "source": [
        "## Create Train, Test and Eval datasets"
      ]
    },
    {
      "cell_type": "code",
      "metadata": {
        "id": "nqNBnCpTAISU",
        "colab_type": "code",
        "colab": {}
      },
      "source": [
        "import pandas as pd\n",
        "from sklearn.model_selection import train_test_split\n",
        "\n",
        "# Remove observations according to EDA\n",
        "data_statistics = raw_data.describe()\n",
        "\n",
        "## Remove negative time\n",
        "raw_data = raw_data[raw_data['time']>=0]\n",
        "\n",
        "for feature in ['products_created','admin_visits','tx','gmv_usd']:\n",
        "\n",
        "  # Remove data with the quantiles method\n",
        "  q1 = data_statistics[feature]['25%']\n",
        "  q3 = data_statistics[feature]['75%']\n",
        "  iqr = q3 - q1\n",
        "  raw_data = raw_data[~((raw_data[feature] < (q1 - 1.5 * iqr)) | (raw_data[feature] > (q3 + 1.5 * iqr))) ]\n",
        "\n",
        "  # Remove data with the std method\n",
        "  raw_data = raw_data[raw_data[feature] <= (data_statistics[feature]['mean'] + 3 * data_statistics[feature]['std'])]\n",
        "\n",
        "## Remove tx feature\n",
        "raw_data.drop(['tx'], axis=1, inplace=True)\n",
        "\n",
        "raw_data.reset_index(drop=True,inplace=True)\n",
        "\n",
        "# Defining the features\n",
        "\n",
        "X = pd.get_dummies(raw_data.drop(['store_id','time', 'event'], axis=1))\n",
        "T = raw_data['time']\n",
        "E = raw_data['event']\n",
        "\n",
        "## Create evaluation set, 70% of the raw_data.\n",
        "index_train_test, index_eval = train_test_split( range(len(raw_data)), test_size = 0.7, random_state = 2020)\n",
        "\n",
        "# Creating the X, T and E input\n",
        "X_train_test = X.loc[index_train_test].reset_index( drop = True )\n",
        "X_eval  = X.loc[index_eval].reset_index( drop = True )\n",
        "\n",
        "T_train_test = T.loc[index_train_test].reset_index( drop = True )\n",
        "T_eval  = T.loc[index_eval].reset_index( drop = True )\n",
        "\n",
        "E_train_test = E.loc[index_train_test].reset_index( drop = True )\n",
        "E_eval  = E.loc[index_eval].reset_index( drop = True )\n",
        "\n",
        "\n",
        "## Create train and test set, 30% of the raw_data.\n",
        "index_train, index_test = train_test_split( range(len(X_train_test)), test_size = 0.25, random_state = 2020)\n",
        "\n",
        "# Creating the X, T and E input\n",
        "X_train = X_train_test.loc[index_train].reset_index( drop = True )\n",
        "X_test  = X_train_test.loc[index_test].reset_index( drop = True )\n",
        "\n",
        "T_train = T_train_test.loc[index_train].reset_index( drop = True )\n",
        "T_test  = T_train_test.loc[index_test].reset_index( drop = True )\n",
        "\n",
        "E_train = E_train_test.loc[index_train].reset_index( drop = True )\n",
        "E_test  = E_train_test.loc[index_test].reset_index( drop = True )"
      ],
      "execution_count": 10,
      "outputs": []
    },
    {
      "cell_type": "markdown",
      "metadata": {
        "id": "_wdIS3mcAJHa",
        "colab_type": "text"
      },
      "source": [
        "## Risk groups\n"
      ]
    },
    {
      "cell_type": "markdown",
      "metadata": {
        "id": "c8RAmL_OSU5N",
        "colab_type": "text"
      },
      "source": [
        "### Train the model"
      ]
    },
    {
      "cell_type": "code",
      "metadata": {
        "id": "RqbpMn_hAOQl",
        "colab_type": "code",
        "colab": {
          "base_uri": "https://localhost:8080/",
          "height": 34
        },
        "outputId": "d2fcca08-4941-4d81-f99f-109c3fcb3f35"
      },
      "source": [
        "from pysurvival.models.survival_forest import RandomSurvivalForestModel\n",
        "import pandas as pd\n",
        "\n",
        "## Build the model\n",
        "model = RandomSurvivalForestModel(num_trees=100)\n",
        "model.fit(X_train, T_train, E_train,seed=2020,\n",
        "        max_features=\"sqrt\", max_depth=5, min_node_size=5)"
      ],
      "execution_count": 11,
      "outputs": [
        {
          "output_type": "execute_result",
          "data": {
            "text/plain": [
              "RandomSurvivalForestModel"
            ]
          },
          "metadata": {
            "tags": []
          },
          "execution_count": 11
        }
      ]
    },
    {
      "cell_type": "markdown",
      "metadata": {
        "id": "Etm_2sfDSfsO",
        "colab_type": "text"
      },
      "source": [
        "### Create the risk groups"
      ]
    },
    {
      "cell_type": "code",
      "metadata": {
        "id": "Y7Sea7ZG0cP7",
        "colab_type": "code",
        "colab": {
          "base_uri": "https://localhost:8080/",
          "height": 283
        },
        "outputId": "cbf58762-5ec0-4ea3-db3b-81ac800be106"
      },
      "source": [
        "from pysurvival.utils.display import create_risk_groups\n",
        "\n",
        "risk_groups = create_risk_groups(model=model, X=X_eval,use_log = False, num_bins=30, figure_size=(10, 4))"
      ],
      "execution_count": 12,
      "outputs": [
        {
          "output_type": "display_data",
          "data": {
            "image/png": "[encoded data removed]",
            "text/plain": [
              "<Figure size 720x288 with 1 Axes>"
            ]
          },
          "metadata": {
            "tags": [],
            "needs_background": "light"
          }
        }
      ]
    },
    {
      "cell_type": "markdown",
      "metadata": {
        "id": "eXIZzHCG9TcY",
        "colab_type": "text"
      },
      "source": [
        "#### K-means for determining number of risk groups."
      ]
    },
    {
      "cell_type": "code",
      "metadata": {
        "id": "OsIQz41ADd_p",
        "colab_type": "code",
        "colab": {
          "base_uri": "https://localhost:8080/",
          "height": 513
        },
        "outputId": "ac3e559a-36c6-4f2b-8cd8-d95fca9d0c53"
      },
      "source": [
        "#K-means for determining the number of clusters.\n",
        "from sklearn.cluster import KMeans\n",
        "import matplotlib.pyplot as plt\n",
        "import pandas as pd\n",
        "\n",
        "preds = pd.DataFrame()\n",
        "preds['risk'] = model.predict_risk(X_eval)\n",
        "\n",
        "inertias = []\n",
        "K = range(1,5)\n",
        "for k in K:\n",
        "  kmeanModel = KMeans(n_clusters=k)\n",
        "  kmeanModel.fit(preds)\n",
        "  inertias.append(kmeanModel.inertia_)\n",
        "\n",
        "plt.figure(figsize=(16,8))\n",
        "plt.plot(K, inertias, 'bx-')\n",
        "plt.xlabel('k')\n",
        "plt.ylabel('Inertia')\n",
        "plt.title('The Elbow Method showing the optimal k')\n",
        "plt.show()"
      ],
      "execution_count": 37,
      "outputs": [
        {
          "output_type": "display_data",
          "data": {
            "image/png": "[encoded data removed]",
            "text/plain": [
              "<Figure size 1152x576 with 1 Axes>"
            ]
          },
          "metadata": {
            "tags": [],
            "needs_background": "light"
          }
        }
      ]
    },
    {
      "cell_type": "code",
      "metadata": {
        "id": "9Cf0Ts_-9QvF",
        "colab_type": "code",
        "colab": {}
      },
      "source": [
        "kmeanModel = KMeans(n_clusters=2)\n",
        "kmeanModel.fit(preds)\n",
        "\n",
        "preds['cluster'] = kmeanModel.predict(preds)"
      ],
      "execution_count": 38,
      "outputs": []
    },
    {
      "cell_type": "code",
      "metadata": {
        "id": "g4EVdUVzDevG",
        "colab_type": "code",
        "colab": {
          "base_uri": "https://localhost:8080/",
          "height": 350
        },
        "outputId": "6762a816-2c35-41ed-9c6c-de2e7e24504f"
      },
      "source": [
        "import seaborn as sns\n",
        "import matplotlib.pyplot as plt\n",
        "\n",
        "plt.figure(figsize=(10,5))\n",
        "\n",
        "ax = sns.distplot(preds[preds['cluster'] == 0]['risk'], kde = False,bins = 30)\n",
        "ax = sns.distplot(preds[preds['cluster'] == 1]['risk'], kde = False,bins = 30)\n",
        "\n",
        "ax.set_xlabel('risk prediction')\n",
        "ax.set_title(\"Risk groups by cluster\");"
      ],
      "execution_count": 39,
      "outputs": [
        {
          "output_type": "display_data",
          "data": {
            "image/png": "[encoded data removed]",
            "text/plain": [
              "<Figure size 720x360 with 1 Axes>"
            ]
          },
          "metadata": {
            "tags": [],
            "needs_background": "light"
          }
        }
      ]
    },
    {
      "cell_type": "code",
      "metadata": {
        "id": "fgStkuKmDeZw",
        "colab_type": "code",
        "colab": {
          "base_uri": "https://localhost:8080/",
          "height": 185
        },
        "outputId": "5238c4ae-e462-4e41-efaf-3a28e57a3f67"
      },
      "source": [
        "print('Risk statistics for cluster 0')\n",
        "preds[preds['cluster'] == 0]['risk'].describe()"
      ],
      "execution_count": 40,
      "outputs": [
        {
          "output_type": "stream",
          "text": [
            "Risk statistics for cluster 0\n"
          ],
          "name": "stdout"
        },
        {
          "output_type": "execute_result",
          "data": {
            "text/plain": [
              "count    1145.000000\n",
              "mean      368.798626\n",
              "std        56.007327\n",
              "min       248.663712\n",
              "25%       316.973139\n",
              "50%       380.413114\n",
              "75%       415.034621\n",
              "max       478.954869\n",
              "Name: risk, dtype: float64"
            ]
          },
          "metadata": {
            "tags": []
          },
          "execution_count": 40
        }
      ]
    },
    {
      "cell_type": "code",
      "metadata": {
        "id": "jJi1r347_m8E",
        "colab_type": "code",
        "colab": {
          "base_uri": "https://localhost:8080/",
          "height": 185
        },
        "outputId": "6a3bcb5f-8848-4176-d8ca-31604cc6e224"
      },
      "source": [
        "print('Risk statistics for cluster 1')\n",
        "preds[preds['cluster'] == 1]['risk'].describe()"
      ],
      "execution_count": 41,
      "outputs": [
        {
          "output_type": "stream",
          "text": [
            "Risk statistics for cluster 1\n"
          ],
          "name": "stdout"
        },
        {
          "output_type": "execute_result",
          "data": {
            "text/plain": [
              "count    606.000000\n",
              "mean     128.309108\n",
              "std       43.654778\n",
              "min       39.030685\n",
              "25%       92.970113\n",
              "50%      127.741353\n",
              "75%      158.253972\n",
              "max      247.300953\n",
              "Name: risk, dtype: float64"
            ]
          },
          "metadata": {
            "tags": []
          },
          "execution_count": 41
        }
      ]
    },
    {
      "cell_type": "code",
      "metadata": {
        "id": "LFS_JIFHom68",
        "colab_type": "code",
        "colab": {
          "base_uri": "https://localhost:8080/",
          "height": 283
        },
        "outputId": "7e9a44b3-9aa0-4d5e-a934-4784372b4a4b"
      },
      "source": [
        "from pysurvival.utils.display import create_risk_groups\n",
        "\n",
        "low_upper_bound = 247\n",
        "\n",
        "risk_groups = create_risk_groups( model=model, X=X_eval,\n",
        "                                  use_log = False, num_bins=30, figure_size=(20, 4),\n",
        "                                  low={'lower_bound':0, 'upper_bound':low_upper_bound, 'color':'limegreen'},                                  \n",
        "                                  high={'lower_bound':low_upper_bound, 'upper_bound':800,  'color':'red'}\n",
        "                                  )\n"
      ],
      "execution_count": 42,
      "outputs": [
        {
          "output_type": "display_data",
          "data": {
            "image/png": "[encoded data removed]",
            "text/plain": [
              "<Figure size 1440x288 with 2 Axes>"
            ]
          },
          "metadata": {
            "tags": [],
            "needs_background": "light"
          }
        }
      ]
    },
    {
      "cell_type": "code",
      "metadata": {
        "id": "N8u9HEJN1L3u",
        "colab_type": "code",
        "colab": {
          "base_uri": "https://localhost:8080/",
          "height": 352
        },
        "outputId": "888867f8-cc44-4099-e0ec-753b9ab8b5cd"
      },
      "source": [
        "%matplotlib inline\n",
        "import matplotlib.pyplot as plt\n",
        "from sksurv.nonparametric import kaplan_meier_estimator\n",
        "\n",
        "# Initializing the figure\n",
        "fig, ax = plt.subplots(figsize=(15, 5))\n",
        "\n",
        "for risk_group in ('low','high'):\n",
        "    time, survival_prob = kaplan_meier_estimator(\n",
        "        E_eval.iloc[risk_groups[risk_group][1]].astype('bool'),\n",
        "        T_eval.iloc[risk_groups[risk_group][1]])\n",
        "    \n",
        "    plt.step(time, survival_prob, where=\"post\",\n",
        "            label=\"Risk Group: %s\" % risk_group,\n",
        "            color = risk_groups[risk_group][0])\n",
        "\n",
        "plt.title(\"Comparing survival functions for the risk groups: low, medium, high\")\n",
        "plt.ylabel(\"est. probability of survival $\\hat{S}(t)$\")\n",
        "plt.xlabel(\"time $t$\")\n",
        "plt.legend(loc=\"best\");"
      ],
      "execution_count": 43,
      "outputs": [
        {
          "output_type": "display_data",
          "data": {
            "image/png": "[encoded data removed]",
            "text/plain": [
              "<Figure size 1080x360 with 1 Axes>"
            ]
          },
          "metadata": {
            "tags": [],
            "needs_background": "light"
          }
        }
      ]
    },
    {
      "cell_type": "markdown",
      "metadata": {
        "id": "rQRBjoeVrApo",
        "colab_type": "text"
      },
      "source": [
        "## Performance on risk groups"
      ]
    },
    {
      "cell_type": "code",
      "metadata": {
        "id": "3pCFH9mOrCwR",
        "colab_type": "code",
        "colab": {
          "base_uri": "https://localhost:8080/",
          "height": 195
        },
        "outputId": "427d1bff-d7a8-49ce-e928-32783a437215"
      },
      "source": [
        "import pandas as pd\n",
        "import numpy as np\n",
        "\n",
        "example = pd.DataFrame()\n",
        "\n",
        "example['is_churn'] = np.where(((E_eval == 1) & (T_eval <= 180)),1,0)\n",
        "\n",
        "example['pred_churn'] = np.where(model.predict_risk(X_eval) >= 230,1,0)\n",
        "\n",
        "example.head()"
      ],
      "execution_count": 44,
      "outputs": [
        {
          "output_type": "execute_result",
          "data": {
            "text/html": [
              "<div>\n",
              "<style scoped>\n",
              "    .dataframe tbody tr th:only-of-type {\n",
              "        vertical-align: middle;\n",
              "    }\n",
              "\n",
              "    .dataframe tbody tr th {\n",
              "        vertical-align: top;\n",
              "    }\n",
              "\n",
              "    .dataframe thead th {\n",
              "        text-align: right;\n",
              "    }\n",
              "</style>\n",
              "<table border=\"1\" class=\"dataframe\">\n",
              "  <thead>\n",
              "    <tr style=\"text-align: right;\">\n",
              "      <th></th>\n",
              "      <th>is_churn</th>\n",
              "      <th>pred_churn</th>\n",
              "    </tr>\n",
              "  </thead>\n",
              "  <tbody>\n",
              "    <tr>\n",
              "      <th>0</th>\n",
              "      <td>0</td>\n",
              "      <td>0</td>\n",
              "    </tr>\n",
              "    <tr>\n",
              "      <th>1</th>\n",
              "      <td>0</td>\n",
              "      <td>1</td>\n",
              "    </tr>\n",
              "    <tr>\n",
              "      <th>2</th>\n",
              "      <td>1</td>\n",
              "      <td>1</td>\n",
              "    </tr>\n",
              "    <tr>\n",
              "      <th>3</th>\n",
              "      <td>1</td>\n",
              "      <td>1</td>\n",
              "    </tr>\n",
              "    <tr>\n",
              "      <th>4</th>\n",
              "      <td>0</td>\n",
              "      <td>1</td>\n",
              "    </tr>\n",
              "  </tbody>\n",
              "</table>\n",
              "</div>"
            ],
            "text/plain": [
              "   is_churn  pred_churn\n",
              "0         0           0\n",
              "1         0           1\n",
              "2         1           1\n",
              "3         1           1\n",
              "4         0           1"
            ]
          },
          "metadata": {
            "tags": []
          },
          "execution_count": 44
        }
      ]
    },
    {
      "cell_type": "code",
      "metadata": {
        "id": "HCt370MmrEJN",
        "colab_type": "code",
        "colab": {
          "base_uri": "https://localhost:8080/",
          "height": 34
        },
        "outputId": "4553d039-4fe1-4f23-d255-3a9ec9fbe6ed"
      },
      "source": [
        "from sklearn.metrics import precision_recall_fscore_support\n",
        "\n",
        "prec,rec,f1,support = precision_recall_fscore_support(example['is_churn'],example['pred_churn'],pos_label=None,average='weighted')\n",
        "print('Model - Precision: {0:1.2f} - Recall: {1:1.2f}'.format(prec,rec))\n"
      ],
      "execution_count": 45,
      "outputs": [
        {
          "output_type": "stream",
          "text": [
            "Model - Precision: 0.74 - Recall: 0.71\n"
          ],
          "name": "stdout"
        }
      ]
    },
    {
      "cell_type": "code",
      "metadata": {
        "id": "-am4j7S8SsyL",
        "colab_type": "code",
        "colab": {
          "base_uri": "https://localhost:8080/",
          "height": 280
        },
        "outputId": "065d5e3a-da3e-42a4-d088-5793a73fcc90"
      },
      "source": [
        "# Client value by gmv\n",
        "import seaborn as sns \n",
        "\n",
        "sns.boxplot(X_eval['gmv_usd']);"
      ],
      "execution_count": 46,
      "outputs": [
        {
          "output_type": "display_data",
          "data": {
            "image/png": "[encoded data removed]",
            "text/plain": [
              "<Figure size 432x288 with 1 Axes>"
            ]
          },
          "metadata": {
            "tags": [],
            "needs_background": "light"
          }
        }
      ]
    },
    {
      "cell_type": "code",
      "metadata": {
        "id": "NAU82LbGTxBc",
        "colab_type": "code",
        "colab": {
          "base_uri": "https://localhost:8080/",
          "height": 195
        },
        "outputId": "354dad10-7df5-4a92-cd7d-24076ac36731"
      },
      "source": [
        "# Remove data with the quantiles method\n",
        "q1 = X_eval['gmv_usd'].quantile(.25)\n",
        "q3 = X_eval['gmv_usd'].quantile(.75)\n",
        "iqr = q3 - q1\n",
        "\n",
        "example['high_value_client'] = np.where(X_eval['gmv_usd'] > (q3 + 1.5 * iqr),1,0)\n",
        "example['mid_value_client'] = np.where(((X_eval['gmv_usd'] > q3) & (X_eval['gmv_usd'] <= (q3 + 1.5 * iqr))),1,0)\n",
        "\n",
        "example.head()\n"
      ],
      "execution_count": 47,
      "outputs": [
        {
          "output_type": "execute_result",
          "data": {
            "text/html": [
              "<div>\n",
              "<style scoped>\n",
              "    .dataframe tbody tr th:only-of-type {\n",
              "        vertical-align: middle;\n",
              "    }\n",
              "\n",
              "    .dataframe tbody tr th {\n",
              "        vertical-align: top;\n",
              "    }\n",
              "\n",
              "    .dataframe thead th {\n",
              "        text-align: right;\n",
              "    }\n",
              "</style>\n",
              "<table border=\"1\" class=\"dataframe\">\n",
              "  <thead>\n",
              "    <tr style=\"text-align: right;\">\n",
              "      <th></th>\n",
              "      <th>is_churn</th>\n",
              "      <th>pred_churn</th>\n",
              "      <th>high_value_client</th>\n",
              "      <th>mid_value_client</th>\n",
              "    </tr>\n",
              "  </thead>\n",
              "  <tbody>\n",
              "    <tr>\n",
              "      <th>0</th>\n",
              "      <td>0</td>\n",
              "      <td>0</td>\n",
              "      <td>0</td>\n",
              "      <td>0</td>\n",
              "    </tr>\n",
              "    <tr>\n",
              "      <th>1</th>\n",
              "      <td>0</td>\n",
              "      <td>1</td>\n",
              "      <td>0</td>\n",
              "      <td>0</td>\n",
              "    </tr>\n",
              "    <tr>\n",
              "      <th>2</th>\n",
              "      <td>1</td>\n",
              "      <td>1</td>\n",
              "      <td>0</td>\n",
              "      <td>0</td>\n",
              "    </tr>\n",
              "    <tr>\n",
              "      <th>3</th>\n",
              "      <td>1</td>\n",
              "      <td>1</td>\n",
              "      <td>0</td>\n",
              "      <td>0</td>\n",
              "    </tr>\n",
              "    <tr>\n",
              "      <th>4</th>\n",
              "      <td>0</td>\n",
              "      <td>1</td>\n",
              "      <td>0</td>\n",
              "      <td>0</td>\n",
              "    </tr>\n",
              "  </tbody>\n",
              "</table>\n",
              "</div>"
            ],
            "text/plain": [
              "   is_churn  pred_churn  high_value_client  mid_value_client\n",
              "0         0           0                  0                 0\n",
              "1         0           1                  0                 0\n",
              "2         1           1                  0                 0\n",
              "3         1           1                  0                 0\n",
              "4         0           1                  0                 0"
            ]
          },
          "metadata": {
            "tags": []
          },
          "execution_count": 47
        }
      ]
    },
    {
      "cell_type": "code",
      "metadata": {
        "id": "j1D7mF7TrI1x",
        "colab_type": "code",
        "colab": {
          "base_uri": "https://localhost:8080/",
          "height": 101
        },
        "outputId": "86842f71-3fbb-4e8f-9200-d9edb08798a3"
      },
      "source": [
        "total_clients = len(example)\n",
        "high_value_clients = len(example[example['high_value_client'] == 1])\n",
        "# mid_value_clients = len(example[example['mid_value_client'] == 1])\n",
        "\n",
        "print('Total clients: {0}'.format(total_clients))\n",
        "print('High value clients: {0}'.format(high_value_clients))\n",
        "\n",
        "high_risk_clients = len(example[example['pred_churn'] == 1])\n",
        "low_risk_clients = len(example[example['pred_churn'] == 0])\n",
        "print('Clients in high risk group: {0}'.format(high_risk_clients))\n",
        "print('Clients in low risk group: {0}'.format(low_risk_clients))\n",
        "\n",
        "high_value_clients_high_risk_group = len(example[((example['pred_churn'] == 1) & (example['high_value_client'] == 1))])\n",
        "\n",
        "# mid_value_clients_high_risk_group = len(example[((example['pred_churn'] == 1) & (example['mid_value_client'] == 1))])\n",
        "\n",
        "print('High value clients in High risk group: {} ({:3.2f}% of total)({:3.2f}% of high value)'.format(high_value_clients_high_risk_group,\n",
        "                                                                    high_value_clients_high_risk_group/total_clients * 100,\n",
        "                                                                    high_value_clients_high_risk_group/high_value_clients * 100))\n",
        "# print('Mid value clients in High risk group: {} ({:3.2f}%)'.format(mid_value_clients_high_risk_group,mid_value_clients_high_risk_group/total_clients * 100))"
      ],
      "execution_count": 48,
      "outputs": [
        {
          "output_type": "stream",
          "text": [
            "Total clients: 1751\n",
            "High value clients: 421\n",
            "Clients in high risk group: 1151\n",
            "Clients in low risk group: 600\n",
            "High value clients in High risk group: 114 (6.51% of total)(27.08% of high value)\n"
          ],
          "name": "stdout"
        }
      ]
    }
  ]
}