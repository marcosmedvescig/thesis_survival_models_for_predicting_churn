{
  "nbformat": 4,
  "nbformat_minor": 0,
  "metadata": {
    "colab": {
      "name": "model_selection.ipynb",
      "provenance": [],
      "collapsed_sections": [],
      "authorship_tag": "ABX9TyOZQj34U59jA8y38b8ki7eo",
      "include_colab_link": true
    },
    "kernelspec": {
      "name": "python3",
      "display_name": "Python 3"
    }
  },
  "cells": [
    {
      "cell_type": "markdown",
      "metadata": {
        "id": "view-in-github",
        "colab_type": "text"
      },
      "source": [
        "<a href=\"https://colab.research.google.com/github/marcosmedvescig/thesis_survival_models_for_predicting_churn/blob/master/model_selection.ipynb\" target=\"_parent\"><img src=\"https://colab.research.google.com/assets/colab-badge.svg\" alt=\"Open In Colab\"/></a>"
      ]
    },
    {
      "cell_type": "markdown",
      "metadata": {
        "id": "blHywm49oZCq",
        "colab_type": "text"
      },
      "source": [
        "# Model selection\n",
        "\n"
      ]
    },
    {
      "cell_type": "markdown",
      "metadata": {
        "id": "SgP_pcggqiRh",
        "colab_type": "text"
      },
      "source": [
        "## Install libraries\n",
        "\n",
        "Note: After installing the libraries for the first time restart the runtime (CTRL + M) for the new versions of the library to be loaded."
      ]
    },
    {
      "cell_type": "code",
      "metadata": {
        "id": "MoeQZjHFqjz9",
        "colab_type": "code",
        "colab": {
          "base_uri": "https://localhost:8080/",
          "height": 1000
        },
        "outputId": "281843eb-54ff-4c1a-bc26-4445ad01d520"
      },
      "source": [
        "## Install libraries\n",
        "!pip install pysurvival=='0.1.2'\n",
        "!pip install scikit-survival=='0.13.1'\n",
        "!pip install osqp=='0.5.0'"
      ],
      "execution_count": 1,
      "outputs": [
        {
          "output_type": "stream",
          "text": [
            "Collecting pysurvival==0.1.2\n",
            "\u001b[?25l  Downloading https://files.pythonhosted.org/packages/13/dd/d7bf69b6e1e0d1cd243b39577867c15d092404d5bc7afef3ae135b50717f/pysurvival-0.1.2.tar.gz (4.7MB)\n",
            "\u001b[K     |████████████████████████████████| 4.8MB 2.9MB/s \n",
            "\u001b[?25hRequirement already satisfied: matplotlib in /usr/local/lib/python3.6/dist-packages (from pysurvival==0.1.2) (3.2.2)\n",
            "Requirement already satisfied: numpy in /usr/local/lib/python3.6/dist-packages (from pysurvival==0.1.2) (1.18.5)\n",
            "Requirement already satisfied: pandas in /usr/local/lib/python3.6/dist-packages (from pysurvival==0.1.2) (1.0.5)\n",
            "Requirement already satisfied: pip in /usr/local/lib/python3.6/dist-packages (from pysurvival==0.1.2) (19.3.1)\n",
            "Collecting progressbar\n",
            "  Downloading https://files.pythonhosted.org/packages/a3/a6/b8e451f6cff1c99b4747a2f7235aa904d2d49e8e1464e0b798272aa84358/progressbar-2.5.tar.gz\n",
            "Requirement already satisfied: pyarrow in /usr/local/lib/python3.6/dist-packages (from pysurvival==0.1.2) (0.14.1)\n",
            "Requirement already satisfied: scikit-learn in /usr/local/lib/python3.6/dist-packages (from pysurvival==0.1.2) (0.22.2.post1)\n",
            "Requirement already satisfied: scipy in /usr/local/lib/python3.6/dist-packages (from pysurvival==0.1.2) (1.4.1)\n",
            "Requirement already satisfied: sklearn in /usr/local/lib/python3.6/dist-packages (from pysurvival==0.1.2) (0.0)\n",
            "Requirement already satisfied: torch in /usr/local/lib/python3.6/dist-packages (from pysurvival==0.1.2) (1.5.1+cu101)\n",
            "Requirement already satisfied: kiwisolver>=1.0.1 in /usr/local/lib/python3.6/dist-packages (from matplotlib->pysurvival==0.1.2) (1.2.0)\n",
            "Requirement already satisfied: python-dateutil>=2.1 in /usr/local/lib/python3.6/dist-packages (from matplotlib->pysurvival==0.1.2) (2.8.1)\n",
            "Requirement already satisfied: pyparsing!=2.0.4,!=2.1.2,!=2.1.6,>=2.0.1 in /usr/local/lib/python3.6/dist-packages (from matplotlib->pysurvival==0.1.2) (2.4.7)\n",
            "Requirement already satisfied: cycler>=0.10 in /usr/local/lib/python3.6/dist-packages (from matplotlib->pysurvival==0.1.2) (0.10.0)\n",
            "Requirement already satisfied: pytz>=2017.2 in /usr/local/lib/python3.6/dist-packages (from pandas->pysurvival==0.1.2) (2018.9)\n",
            "Requirement already satisfied: six>=1.0.0 in /usr/local/lib/python3.6/dist-packages (from pyarrow->pysurvival==0.1.2) (1.12.0)\n",
            "Requirement already satisfied: joblib>=0.11 in /usr/local/lib/python3.6/dist-packages (from scikit-learn->pysurvival==0.1.2) (0.16.0)\n",
            "Requirement already satisfied: future in /usr/local/lib/python3.6/dist-packages (from torch->pysurvival==0.1.2) (0.16.0)\n",
            "Building wheels for collected packages: pysurvival, progressbar\n",
            "  Building wheel for pysurvival (setup.py) ... \u001b[?25l\u001b[?25hdone\n",
            "  Created wheel for pysurvival: filename=pysurvival-0.1.2-cp36-cp36m-linux_x86_64.whl size=3774891 sha256=0176a4188b4312202f342d231b8b2d88965cb456930d782c55eab67d5629890f\n",
            "  Stored in directory: /root/.cache/pip/wheels/6c/23/e8/6feb0c4432219666bdd5d33828d7d9f429c4726f34c6fa8061\n",
            "  Building wheel for progressbar (setup.py) ... \u001b[?25l\u001b[?25hdone\n",
            "  Created wheel for progressbar: filename=progressbar-2.5-cp36-none-any.whl size=12074 sha256=06af9a54c5366b313e68463f37beb0a21a68c260c50185ec57de02a9ffb6d0bb\n",
            "  Stored in directory: /root/.cache/pip/wheels/c0/e9/6b/ea01090205e285175842339aa3b491adeb4015206cda272ff0\n",
            "Successfully built pysurvival progressbar\n",
            "Installing collected packages: progressbar, pysurvival\n",
            "Successfully installed progressbar-2.5 pysurvival-0.1.2\n",
            "Collecting scikit-survival==0.13.1\n",
            "\u001b[?25l  Downloading https://files.pythonhosted.org/packages/60/8a/46782be432e93ce74af46b8e8ee4be74df6edfb86c619742fa4265a7c69a/scikit-survival-0.13.1.tar.gz (1.8MB)\n",
            "\u001b[K     |████████████████████████████████| 1.8MB 2.8MB/s \n",
            "\u001b[?25h  Installing build dependencies ... \u001b[?25l\u001b[?25hdone\n",
            "  Getting requirements to build wheel ... \u001b[?25l\u001b[?25hdone\n",
            "    Preparing wheel metadata ... \u001b[?25l\u001b[?25hdone\n",
            "Requirement already satisfied: joblib in /usr/local/lib/python3.6/dist-packages (from scikit-survival==0.13.1) (0.16.0)\n",
            "Requirement already satisfied: cvxopt in /usr/local/lib/python3.6/dist-packages (from scikit-survival==0.13.1) (1.2.5)\n",
            "Collecting osqp!=0.6.0,!=0.6.1\n",
            "\u001b[?25l  Downloading https://files.pythonhosted.org/packages/c0/01/8becb29b0d38e0c40eab9e3d54aa8138fa62a010d519caf65e9210021bd3/osqp-0.5.0-cp36-cp36m-manylinux1_x86_64.whl (147kB)\n",
            "\u001b[K     |████████████████████████████████| 153kB 18.3MB/s \n",
            "\u001b[?25hRequirement already satisfied: pandas>=0.21 in /usr/local/lib/python3.6/dist-packages (from scikit-survival==0.13.1) (1.0.5)\n",
            "Requirement already satisfied: numpy in /usr/local/lib/python3.6/dist-packages (from scikit-survival==0.13.1) (1.18.5)\n",
            "Requirement already satisfied: cvxpy>=1.0 in /usr/local/lib/python3.6/dist-packages (from scikit-survival==0.13.1) (1.0.31)\n",
            "Requirement already satisfied: numexpr in /usr/local/lib/python3.6/dist-packages (from scikit-survival==0.13.1) (2.7.1)\n",
            "Requirement already satisfied: scipy!=1.3.0,>=1.0 in /usr/local/lib/python3.6/dist-packages (from scikit-survival==0.13.1) (1.4.1)\n",
            "Requirement already satisfied: scikit-learn<0.24,>=0.22.0 in /usr/local/lib/python3.6/dist-packages (from scikit-survival==0.13.1) (0.22.2.post1)\n",
            "Requirement already satisfied: future in /usr/local/lib/python3.6/dist-packages (from osqp!=0.6.0,!=0.6.1->scikit-survival==0.13.1) (0.16.0)\n",
            "Requirement already satisfied: python-dateutil>=2.6.1 in /usr/local/lib/python3.6/dist-packages (from pandas>=0.21->scikit-survival==0.13.1) (2.8.1)\n",
            "Requirement already satisfied: pytz>=2017.2 in /usr/local/lib/python3.6/dist-packages (from pandas>=0.21->scikit-survival==0.13.1) (2018.9)\n",
            "Requirement already satisfied: ecos>=2 in /usr/local/lib/python3.6/dist-packages (from cvxpy>=1.0->scikit-survival==0.13.1) (2.0.7.post1)\n",
            "Requirement already satisfied: scs>=1.1.3 in /usr/local/lib/python3.6/dist-packages (from cvxpy>=1.0->scikit-survival==0.13.1) (2.1.2)\n",
            "Requirement already satisfied: multiprocess in /usr/local/lib/python3.6/dist-packages (from cvxpy>=1.0->scikit-survival==0.13.1) (0.70.10)\n",
            "Requirement already satisfied: six>=1.5 in /usr/local/lib/python3.6/dist-packages (from python-dateutil>=2.6.1->pandas>=0.21->scikit-survival==0.13.1) (1.12.0)\n",
            "Requirement already satisfied: dill>=0.3.2 in /usr/local/lib/python3.6/dist-packages (from multiprocess->cvxpy>=1.0->scikit-survival==0.13.1) (0.3.2)\n",
            "Building wheels for collected packages: scikit-survival\n",
            "  Building wheel for scikit-survival (PEP 517) ... \u001b[?25l\u001b[?25hdone\n",
            "  Created wheel for scikit-survival: filename=scikit_survival-0.13.1-cp36-cp36m-linux_x86_64.whl size=4119272 sha256=7a58fbd5f047427552d624dea8e68e1503e67658928290ee6daf94995ea7c3ca\n",
            "  Stored in directory: /root/.cache/pip/wheels/3d/24/e0/fe0e4a26f30e20aee3b2118db721c39f0f5be5e50db2ccbf27\n",
            "Successfully built scikit-survival\n",
            "Installing collected packages: osqp, scikit-survival\n",
            "  Found existing installation: osqp 0.6.1\n",
            "    Uninstalling osqp-0.6.1:\n",
            "      Successfully uninstalled osqp-0.6.1\n",
            "Successfully installed osqp-0.5.0 scikit-survival-0.13.1\n",
            "Requirement already satisfied: osqp==0.5.0 in /usr/local/lib/python3.6/dist-packages (0.5.0)\n",
            "Requirement already satisfied: future in /usr/local/lib/python3.6/dist-packages (from osqp==0.5.0) (0.16.0)\n",
            "Requirement already satisfied: numpy>=1.7 in /usr/local/lib/python3.6/dist-packages (from osqp==0.5.0) (1.18.5)\n",
            "Requirement already satisfied: scipy>=0.13.2 in /usr/local/lib/python3.6/dist-packages (from osqp==0.5.0) (1.4.1)\n"
          ],
          "name": "stdout"
        }
      ]
    },
    {
      "cell_type": "markdown",
      "metadata": {
        "id": "Uqx2w18jqdBV",
        "colab_type": "text"
      },
      "source": [
        "## Custom Functions"
      ]
    },
    {
      "cell_type": "code",
      "metadata": {
        "id": "q-ABryu0qf1j",
        "colab_type": "code",
        "colab": {}
      },
      "source": [
        "import numpy as np\n",
        "import pandas as pd\n",
        "from pysurvival.utils.metrics import concordance_index\n",
        "from pysurvival.utils.display import integrated_brier_score\n",
        "from sksurv.metrics import cumulative_dynamic_auc\n",
        "\n",
        "def evaluate_model(model,X_train,T_train, E_train,X_test,T_test,E_test,\n",
        "                   c_index=True,ibs=True,c_auc=True):\n",
        "\n",
        "    # c-index\n",
        "    if c_index:\n",
        "        from pysurvival.utils.metrics import concordance_index\n",
        "        c_index = concordance_index(model, X_test, T_test, E_test)\n",
        "        print('c-index: {0:5.4f}'.format(c_index))\n",
        "    else:\n",
        "        c_index=0\n",
        "\n",
        "    # ibs\n",
        "    if ibs:        \n",
        "        from pysurvival.utils.display import integrated_brier_score\n",
        "        ibs = integrated_brier_score(model, X_test, T_test, E_test, t_max=200,\n",
        "                    figure_size=(20, 6.5) )\n",
        "        print('IBS: {0:5.4f}'.format(ibs))\n",
        "    else:\n",
        "        ibs=1\n",
        "\n",
        "    # cumulative_auc\n",
        "    if c_auc:\n",
        "        from sksurv.metrics import cumulative_dynamic_auc\n",
        "\n",
        "        train = np.array([(e,t) for e,t in zip(E_train,T_train)],dtype=[('event', 'bool_'),('time','int_')])\n",
        "        test = np.array([(e,t) for e,t in zip(E_test,T_test)],dtype=[('event', 'bool_'),('time','int_')])\n",
        "\n",
        "        # auc does not support inf risk so we replace with a really large value\n",
        "        risk = model.predict_risk(X_test)\n",
        "        risk = np.where(risk == np.inf,100,risk)\n",
        "\n",
        "        auc_time_list,mean_auc = cumulative_dynamic_auc(train, test, risk, [100,150,300,500], tied_tol=1e-08)\n",
        "        print('AUC: {0:5.4f}'.format(mean_auc))\n",
        "    else:\n",
        "        mean_auc=0\n",
        "\n",
        "    #return results\n",
        "    results = pd.DataFrame({'c_index':[c_index],\n",
        "                                'ibs':[ibs],\n",
        "                                'mean_auc':[mean_auc]})\n",
        "    return results"
      ],
      "execution_count": 1,
      "outputs": []
    },
    {
      "cell_type": "markdown",
      "metadata": {
        "id": "MC0SChUjohr3",
        "colab_type": "text"
      },
      "source": [
        "## Load Data"
      ]
    },
    {
      "cell_type": "code",
      "metadata": {
        "id": "Y4oJBu3WoPTP",
        "colab_type": "code",
        "colab": {
          "base_uri": "https://localhost:8080/",
          "height": 195
        },
        "outputId": "01bf3227-d13a-48a1-9aa7-f91d6e60088f"
      },
      "source": [
        "import pandas as pd\n",
        "import numpy as np\n",
        "import os\n",
        "\n",
        "# Open dataset\n",
        "raw_data = pd.read_csv('https://github.com/marcosmedvescig/thesis_survival_models_for_predicting_churn/raw/master/churn_data_anonymized_20200718.csv')\n",
        "raw_data.rename(columns={'survival_days': 'time', 'status': 'event'},inplace=True)\n",
        "\n",
        "raw_data.head()"
      ],
      "execution_count": 2,
      "outputs": [
        {
          "output_type": "execute_result",
          "data": {
            "text/html": [
              "<div>\n",
              "<style scoped>\n",
              "    .dataframe tbody tr th:only-of-type {\n",
              "        vertical-align: middle;\n",
              "    }\n",
              "\n",
              "    .dataframe tbody tr th {\n",
              "        vertical-align: top;\n",
              "    }\n",
              "\n",
              "    .dataframe thead th {\n",
              "        text-align: right;\n",
              "    }\n",
              "</style>\n",
              "<table border=\"1\" class=\"dataframe\">\n",
              "  <thead>\n",
              "    <tr style=\"text-align: right;\">\n",
              "      <th></th>\n",
              "      <th>store_id</th>\n",
              "      <th>time</th>\n",
              "      <th>event</th>\n",
              "      <th>country</th>\n",
              "      <th>max_segment</th>\n",
              "      <th>creation_platform</th>\n",
              "      <th>products_created</th>\n",
              "      <th>admin_visits</th>\n",
              "      <th>source</th>\n",
              "      <th>seller_probability</th>\n",
              "      <th>tx</th>\n",
              "      <th>gmv_usd</th>\n",
              "    </tr>\n",
              "  </thead>\n",
              "  <tbody>\n",
              "    <tr>\n",
              "      <th>0</th>\n",
              "      <td>1842269723731683560</td>\n",
              "      <td>261</td>\n",
              "      <td>1</td>\n",
              "      <td>A</td>\n",
              "      <td>B</td>\n",
              "      <td>A</td>\n",
              "      <td>-0.080154</td>\n",
              "      <td>-0.161978</td>\n",
              "      <td>I</td>\n",
              "      <td>1.014303</td>\n",
              "      <td>-0.042809</td>\n",
              "      <td>-0.071061</td>\n",
              "    </tr>\n",
              "    <tr>\n",
              "      <th>1</th>\n",
              "      <td>4773050910207726165</td>\n",
              "      <td>107</td>\n",
              "      <td>1</td>\n",
              "      <td>A</td>\n",
              "      <td>C</td>\n",
              "      <td>A</td>\n",
              "      <td>0.012447</td>\n",
              "      <td>0.566017</td>\n",
              "      <td>I</td>\n",
              "      <td>-0.214408</td>\n",
              "      <td>-0.076793</td>\n",
              "      <td>-0.092084</td>\n",
              "    </tr>\n",
              "    <tr>\n",
              "      <th>2</th>\n",
              "      <td>4171477716070775996</td>\n",
              "      <td>102</td>\n",
              "      <td>0</td>\n",
              "      <td>C</td>\n",
              "      <td>A</td>\n",
              "      <td>A</td>\n",
              "      <td>-0.075205</td>\n",
              "      <td>2.295003</td>\n",
              "      <td>A</td>\n",
              "      <td>-0.467481</td>\n",
              "      <td>0.602888</td>\n",
              "      <td>0.209250</td>\n",
              "    </tr>\n",
              "    <tr>\n",
              "      <th>3</th>\n",
              "      <td>-558102186785033374</td>\n",
              "      <td>101</td>\n",
              "      <td>1</td>\n",
              "      <td>C</td>\n",
              "      <td>C</td>\n",
              "      <td>A</td>\n",
              "      <td>-0.078033</td>\n",
              "      <td>-0.935472</td>\n",
              "      <td>A</td>\n",
              "      <td>-0.574383</td>\n",
              "      <td>-0.110777</td>\n",
              "      <td>-0.106463</td>\n",
              "    </tr>\n",
              "    <tr>\n",
              "      <th>4</th>\n",
              "      <td>-2987486431769169084</td>\n",
              "      <td>444</td>\n",
              "      <td>0</td>\n",
              "      <td>A</td>\n",
              "      <td>B</td>\n",
              "      <td>A</td>\n",
              "      <td>-0.063189</td>\n",
              "      <td>0.611516</td>\n",
              "      <td>I</td>\n",
              "      <td>1.614260</td>\n",
              "      <td>-0.099449</td>\n",
              "      <td>-0.103126</td>\n",
              "    </tr>\n",
              "  </tbody>\n",
              "</table>\n",
              "</div>"
            ],
            "text/plain": [
              "              store_id  time  event  ... seller_probability        tx   gmv_usd\n",
              "0  1842269723731683560   261      1  ...           1.014303 -0.042809 -0.071061\n",
              "1  4773050910207726165   107      1  ...          -0.214408 -0.076793 -0.092084\n",
              "2  4171477716070775996   102      0  ...          -0.467481  0.602888  0.209250\n",
              "3  -558102186785033374   101      1  ...          -0.574383 -0.110777 -0.106463\n",
              "4 -2987486431769169084   444      0  ...           1.614260 -0.099449 -0.103126\n",
              "\n",
              "[5 rows x 12 columns]"
            ]
          },
          "metadata": {
            "tags": []
          },
          "execution_count": 2
        }
      ]
    },
    {
      "cell_type": "markdown",
      "metadata": {
        "id": "0T-XvclppqNT",
        "colab_type": "text"
      },
      "source": [
        "## Create Train, Test and Eval datasets"
      ]
    },
    {
      "cell_type": "code",
      "metadata": {
        "id": "H1iOIr7opc7l",
        "colab_type": "code",
        "colab": {}
      },
      "source": [
        "import pandas as pd\n",
        "from sklearn.model_selection import train_test_split\n",
        "\n",
        "# Remove observations according to EDA\n",
        "\n",
        "raw_data = raw_data[raw_data['time']>=0]\n",
        "raw_data = raw_data[raw_data['products_created'] <= (raw_data['products_created'].mean() + 3 * raw_data['products_created'].std())]\n",
        "raw_data = raw_data[raw_data['admin_visits'] <= (raw_data['admin_visits'].mean() + 3 * raw_data['admin_visits'].std())]\n",
        "raw_data = raw_data[raw_data['tx'] <= (raw_data['tx'].mean() + 3 * raw_data['tx'].std())]\n",
        "raw_data = raw_data[raw_data['gmv_usd'] <= (raw_data['gmv_usd'].mean() + 3 * raw_data['gmv_usd'].std())]\n",
        "\n",
        "raw_data.reset_index(drop=True,inplace=True)\n",
        "\n",
        "# Defining the features\n",
        "\n",
        "X = pd.get_dummies(raw_data.drop(['store_id','time', 'event'], axis=1))\n",
        "T = raw_data['time']\n",
        "E = raw_data['event']\n",
        "\n",
        "## Create evaluation set, 70% of the raw_data.\n",
        "index_train_test, index_eval = train_test_split( range(len(raw_data)), test_size = 0.7, random_state = 2020)\n",
        "\n",
        "# Creating the X, T and E input\n",
        "X_train_test = X.loc[index_train_test].reset_index( drop = True )\n",
        "X_eval  = X.loc[index_eval].reset_index( drop = True )\n",
        "\n",
        "T_train_test = T.loc[index_train_test].reset_index( drop = True )\n",
        "T_eval  = T.loc[index_eval].reset_index( drop = True )\n",
        "\n",
        "E_train_test = E.loc[index_train_test].reset_index( drop = True )\n",
        "E_eval  = E.loc[index_eval].reset_index( drop = True )\n",
        "\n",
        "\n",
        "## Create train and test set, 30% of the raw_data.\n",
        "index_train, index_test = train_test_split( range(len(X_train_test)), test_size = 0.25, random_state = 2020)\n",
        "\n",
        "# Creating the X, T and E input\n",
        "X_train = X_train_test.loc[index_train].reset_index( drop = True )\n",
        "X_test  = X_train_test.loc[index_test].reset_index( drop = True )\n",
        "\n",
        "T_train = T_train_test.loc[index_train].reset_index( drop = True )\n",
        "T_test  = T_train_test.loc[index_test].reset_index( drop = True )\n",
        "\n",
        "E_train = E_train_test.loc[index_train].reset_index( drop = True )\n",
        "E_test  = E_train_test.loc[index_test].reset_index( drop = True )"
      ],
      "execution_count": 3,
      "outputs": []
    },
    {
      "cell_type": "markdown",
      "metadata": {
        "id": "h0moQ3r2toGP",
        "colab_type": "text"
      },
      "source": [
        "## Model Selection"
      ]
    },
    {
      "cell_type": "code",
      "metadata": {
        "id": "TqTKuEA3t22E",
        "colab_type": "code",
        "colab": {}
      },
      "source": [
        "import pandas as pd\n",
        "# Create empty dataframe for storing the results\n",
        "\n",
        "results = pd.DataFrame()"
      ],
      "execution_count": 4,
      "outputs": []
    },
    {
      "cell_type": "markdown",
      "metadata": {
        "id": "o504VakAtp3i",
        "colab_type": "text"
      },
      "source": [
        "### Standard CoxPH model"
      ]
    },
    {
      "cell_type": "code",
      "metadata": {
        "id": "SwWoJiO1tq2n",
        "colab_type": "code",
        "colab": {
          "base_uri": "https://localhost:8080/",
          "height": 1000
        },
        "outputId": "19ea3f70-2f8d-49ec-d17f-cc0fb7fd18ae"
      },
      "source": [
        "from pysurvival.models.semi_parametric import CoxPHModel\n",
        "import pandas as pd\n",
        "\n",
        "# Creating an instance of the Cox PH model and fitting the data.\n",
        "\n",
        "## Build the model\n",
        "coxph = CoxPHModel()\n",
        "coxph.fit(X_train, T_train, E_train, lr=0.1, l2_reg=1e-2, init_method='zeros')\n",
        "\n",
        "## Evaluate model\n",
        "tmp_results = evaluate_model(coxph,X_train,T_train,E_train,X_test,T_test,E_test)\n",
        "tmp_results['model'] = ['coxph']\n",
        "results = pd.concat([results, tmp_results], ignore_index=True)\n",
        "results.head()"
      ],
      "execution_count": 5,
      "outputs": [
        {
          "output_type": "stream",
          "text": [
            "Performing Newton-Raphson optimization\n",
            " * Iteration #1 - Loss = 2671.910 - ||grad||^2 = 561.27400\n",
            " * Iteration #2 - Loss = 2652.658 - ||grad||^2 = 523.94669\n",
            " * Iteration #3 - Loss = 2627.170 - ||grad||^2 = 470.73934\n",
            " * Iteration #4 - Loss = 2607.143 - ||grad||^2 = 423.45401\n",
            " * Iteration #5 - Loss = 2591.014 - ||grad||^2 = 381.17095\n",
            " * Iteration #6 - Loss = 2577.853 - ||grad||^2 = 343.25756\n",
            " * Iteration #7 - Loss = 2567.021 - ||grad||^2 = 309.20783\n",
            " * Iteration #8 - Loss = 2558.052 - ||grad||^2 = 278.59564\n",
            " * Iteration #9 - Loss = 2550.591 - ||grad||^2 = 251.05337\n",
            " * Iteration #10 - Loss = 2544.362 - ||grad||^2 = 226.25954\n",
            " * Iteration #11 - Loss = 2539.147 - ||grad||^2 = 203.93071\n",
            " * Iteration #12 - Loss = 2534.771 - ||grad||^2 = 183.81548\n",
            " * Iteration #13 - Loss = 2531.093 - ||grad||^2 = 165.69004\n",
            " * Iteration #14 - Loss = 2527.997 - ||grad||^2 = 149.35455\n",
            " * Iteration #15 - Loss = 2525.389 - ||grad||^2 = 134.63014\n",
            " * Iteration #16 - Loss = 2523.189 - ||grad||^2 = 121.35651\n",
            " * Iteration #17 - Loss = 2521.334 - ||grad||^2 = 109.38977\n",
            " * Iteration #18 - Loss = 2519.769 - ||grad||^2 = 98.60063\n",
            " * Iteration #19 - Loss = 2518.448 - ||grad||^2 = 88.87285\n",
            " * Iteration #20 - Loss = 2517.333 - ||grad||^2 = 80.10183\n",
            " * Iteration #21 - Loss = 2516.394 - ||grad||^2 = 72.19342\n",
            " * Iteration #22 - Loss = 2515.602 - ||grad||^2 = 65.06281\n",
            " * Iteration #23 - Loss = 2514.935 - ||grad||^2 = 58.63361\n",
            " * Iteration #24 - Loss = 2514.374 - ||grad||^2 = 52.83695\n",
            " * Iteration #25 - Loss = 2513.902 - ||grad||^2 = 47.61078\n",
            " * Iteration #26 - Loss = 2513.506 - ||grad||^2 = 42.89914\n",
            " * Iteration #27 - Loss = 2513.174 - ||grad||^2 = 38.65157\n",
            " * Iteration #28 - Loss = 2512.896 - ||grad||^2 = 34.82257\n",
            " * Iteration #29 - Loss = 2512.664 - ||grad||^2 = 31.37108\n",
            " * Iteration #30 - Loss = 2512.470 - ||grad||^2 = 28.26007\n",
            " * Iteration #31 - Loss = 2512.309 - ||grad||^2 = 25.45614\n",
            " * Iteration #32 - Loss = 2512.174 - ||grad||^2 = 22.92914\n",
            " * Iteration #33 - Loss = 2512.063 - ||grad||^2 = 20.65189\n",
            " * Iteration #34 - Loss = 2511.970 - ||grad||^2 = 18.59983\n",
            " * Iteration #35 - Loss = 2511.894 - ||grad||^2 = 16.75083\n",
            " * Iteration #36 - Loss = 2511.830 - ||grad||^2 = 15.08492\n",
            " * Iteration #37 - Loss = 2511.778 - ||grad||^2 = 13.58406\n",
            " * Iteration #38 - Loss = 2511.735 - ||grad||^2 = 12.23200\n",
            " * Iteration #39 - Loss = 2511.699 - ||grad||^2 = 11.01405\n",
            " * Iteration #40 - Loss = 2511.670 - ||grad||^2 = 9.91700\n",
            " * Iteration #41 - Loss = 2511.646 - ||grad||^2 = 8.92889\n",
            " * Iteration #42 - Loss = 2511.626 - ||grad||^2 = 8.03897\n",
            " * Iteration #43 - Loss = 2511.610 - ||grad||^2 = 7.23751\n",
            " * Iteration #44 - Loss = 2511.597 - ||grad||^2 = 6.51577\n",
            " * Iteration #45 - Loss = 2511.586 - ||grad||^2 = 5.86584\n",
            " * Iteration #46 - Loss = 2511.577 - ||grad||^2 = 5.28061\n",
            " * Iteration #47 - Loss = 2511.570 - ||grad||^2 = 4.75365\n",
            " * Iteration #48 - Loss = 2511.564 - ||grad||^2 = 4.27919\n",
            " * Iteration #49 - Loss = 2511.559 - ||grad||^2 = 3.85201\n",
            " * Iteration #50 - Loss = 2511.555 - ||grad||^2 = 3.46742\n",
            " * Iteration #51 - Loss = 2511.552 - ||grad||^2 = 3.12117\n",
            " * Iteration #52 - Loss = 2511.549 - ||grad||^2 = 2.80946\n",
            " * Iteration #53 - Loss = 2511.547 - ||grad||^2 = 2.52884\n",
            " * Iteration #54 - Loss = 2511.546 - ||grad||^2 = 2.27622\n",
            " * Iteration #55 - Loss = 2511.544 - ||grad||^2 = 2.04882\n",
            " * Iteration #56 - Loss = 2511.543 - ||grad||^2 = 1.84411\n",
            " * Iteration #57 - Loss = 2511.542 - ||grad||^2 = 1.65985\n",
            " * Iteration #58 - Loss = 2511.541 - ||grad||^2 = 1.49398\n",
            " * Iteration #59 - Loss = 2511.541 - ||grad||^2 = 1.34468\n",
            " * Iteration #60 - Loss = 2511.540 - ||grad||^2 = 1.21029\n",
            " * Iteration #61 - Loss = 2511.540 - ||grad||^2 = 1.08932\n",
            " * Iteration #62 - Loss = 2511.540 - ||grad||^2 = 0.98044\n",
            " * Iteration #63 - Loss = 2511.539 - ||grad||^2 = 0.88244\n",
            " * Iteration #64 - Loss = 2511.539 - ||grad||^2 = 0.79423\n",
            " * Iteration #65 - Loss = 2511.539 - ||grad||^2 = 0.71483\n",
            " * Iteration #66 - Loss = 2511.539 - ||grad||^2 = 0.64337\n",
            " * Iteration #67 - Loss = 2511.539 - ||grad||^2 = 0.57905\n",
            " * Iteration #68 - Loss = 2511.539 - ||grad||^2 = 0.52116\n",
            " * Iteration #69 - Loss = 2511.538 - ||grad||^2 = 0.46906\n",
            " * Iteration #70 - Loss = 2511.538 - ||grad||^2 = 0.42216\n",
            " * Iteration #71 - Loss = 2511.538 - ||grad||^2 = 0.37995\n",
            " * Iteration #72 - Loss = 2511.538 - ||grad||^2 = 0.34196\n",
            " * Iteration #73 - Loss = 2511.538 - ||grad||^2 = 0.30777\n",
            " * Iteration #74 - Loss = 2511.538 - ||grad||^2 = 0.27700\n",
            " * Iteration #75 - Loss = 2511.538 - ||grad||^2 = 0.24930\n",
            " * Iteration #76 - Loss = 2511.538 - ||grad||^2 = 0.22437\n",
            " * Iteration #77 - Loss = 2511.538 - ||grad||^2 = 0.20194\n",
            " * Iteration #78 - Loss = 2511.538 - ||grad||^2 = 0.18175\n",
            " * Iteration #79 - Loss = 2511.538 - ||grad||^2 = 0.16357\n",
            " * Iteration #80 - Loss = 2511.538 - ||grad||^2 = 0.14722\n",
            " * Iteration #81 - Loss = 2511.538 - ||grad||^2 = 0.13250\n",
            " * Iteration #82 - Loss = 2511.538 - ||grad||^2 = 0.11925\n",
            " * Iteration #83 - Loss = 2511.538 - ||grad||^2 = 0.10732\n",
            " * Iteration #84 - Loss = 2511.538 - ||grad||^2 = 0.09659\n",
            " * Iteration #85 - Loss = 2511.538 - ||grad||^2 = 0.08693\n",
            " * Iteration #86 - Loss = 2511.538 - ||grad||^2 = 0.07824\n",
            " * Iteration #87 - Loss = 2511.538 - ||grad||^2 = 0.07042\n",
            " * Iteration #88 - Loss = 2511.538 - ||grad||^2 = 0.06338\n",
            " * Iteration #89 - Loss = 2511.538 - ||grad||^2 = 0.05704\n",
            " * Iteration #90 - Loss = 2511.538 - ||grad||^2 = 0.05133\n",
            " * Iteration #91 - Loss = 2511.538 - ||grad||^2 = 0.04620\n",
            " * Iteration #92 - Loss = 2511.538 - ||grad||^2 = 0.04158\n",
            " * Iteration #93 - Loss = 2511.538 - ||grad||^2 = 0.03742\n",
            " * Iteration #94 - Loss = 2511.538 - ||grad||^2 = 0.03368\n",
            " * Iteration #95 - Loss = 2511.538 - ||grad||^2 = 0.03031\n",
            " * Iteration #96 - Loss = 2511.538 - ||grad||^2 = 0.02728\n",
            " * Iteration #97 - Loss = 2511.538 - ||grad||^2 = 0.02455\n",
            " * Iteration #98 - Loss = 2511.538 - ||grad||^2 = 0.02210\n",
            " * Iteration #99 - Loss = 2511.538 - ||grad||^2 = 0.01989\n",
            " * Iteration #100 - Loss = 2511.538 - ||grad||^2 = 0.01790\n",
            "Optimization reached max number of iterations.\n",
            "c-index: 0.7511\n"
          ],
          "name": "stdout"
        },
        {
          "output_type": "stream",
          "text": [
            "/usr/local/lib/python3.6/dist-packages/pysurvival/models/semi_parametric.py:49: RuntimeWarning: divide by zero encountered in true_divide\n",
            "  self.std_err  = np.sqrt(self.inv_Hessian.diagonal())/self.std_scale\n"
          ],
          "name": "stderr"
        },
        {
          "output_type": "display_data",
          "data": {
            "image/png": "[encoded data removed]",
            "text/plain": [
              "<Figure size 1440x468 with 1 Axes>"
            ]
          },
          "metadata": {
            "tags": [],
            "needs_background": "light"
          }
        },
        {
          "output_type": "stream",
          "text": [
            "IBS: 0.1217\n",
            "AUC: 0.8270\n"
          ],
          "name": "stdout"
        },
        {
          "output_type": "execute_result",
          "data": {
            "text/html": [
              "<div>\n",
              "<style scoped>\n",
              "    .dataframe tbody tr th:only-of-type {\n",
              "        vertical-align: middle;\n",
              "    }\n",
              "\n",
              "    .dataframe tbody tr th {\n",
              "        vertical-align: top;\n",
              "    }\n",
              "\n",
              "    .dataframe thead th {\n",
              "        text-align: right;\n",
              "    }\n",
              "</style>\n",
              "<table border=\"1\" class=\"dataframe\">\n",
              "  <thead>\n",
              "    <tr style=\"text-align: right;\">\n",
              "      <th></th>\n",
              "      <th>c_index</th>\n",
              "      <th>ibs</th>\n",
              "      <th>mean_auc</th>\n",
              "      <th>model</th>\n",
              "    </tr>\n",
              "  </thead>\n",
              "  <tbody>\n",
              "    <tr>\n",
              "      <th>0</th>\n",
              "      <td>0.751086</td>\n",
              "      <td>0.121738</td>\n",
              "      <td>0.826968</td>\n",
              "      <td>coxph</td>\n",
              "    </tr>\n",
              "  </tbody>\n",
              "</table>\n",
              "</div>"
            ],
            "text/plain": [
              "    c_index       ibs  mean_auc  model\n",
              "0  0.751086  0.121738  0.826968  coxph"
            ]
          },
          "metadata": {
            "tags": []
          },
          "execution_count": 5
        }
      ]
    },
    {
      "cell_type": "markdown",
      "metadata": {
        "id": "J5BJnCsnuB-G",
        "colab_type": "text"
      },
      "source": [
        "### DeepSurv/Non-Linear CoxPH model"
      ]
    },
    {
      "cell_type": "code",
      "metadata": {
        "id": "qukpMSb6uCej",
        "colab_type": "code",
        "colab": {
          "base_uri": "https://localhost:8080/",
          "height": 579
        },
        "outputId": "0571a237-b7a7-4154-e163-5c52d72a3886"
      },
      "source": [
        "from pysurvival.models.semi_parametric import NonLinearCoxPHModel\n",
        "import pandas as pd\n",
        "\n",
        "# Creating an instance of the NonLinear CoxPH model and fitting the data.\n",
        "\n",
        "### Defining the MLP structure. Here we will build a 1-hidden layer \n",
        "### with 150 units and `BentIdentity` as its activation function\n",
        "structure = [ {'activation': 'BentIdentity', 'num_units': 150},  ]\n",
        "\n",
        "## Build the model\n",
        "nonlinear_coxph = NonLinearCoxPHModel(structure=structure)\n",
        "nonlinear_coxph.fit(X_train, T_train, E_train, lr=1e-3, init_method='xav_uniform')\n",
        "\n",
        "## Evaluate model\n",
        "tmp_results = evaluate_model(nonlinear_coxph,X_train,T_train,E_train,X_test,T_test,E_test)\n",
        "tmp_results['model'] = ['nonlinear_coxph']\n",
        "results = pd.concat([results, tmp_results], ignore_index=True)\n",
        "results.head()"
      ],
      "execution_count": 6,
      "outputs": [
        {
          "output_type": "stream",
          "text": [
            "\n"
          ],
          "name": "stderr"
        },
        {
          "output_type": "stream",
          "text": [
            "c-index: 0.7548\n"
          ],
          "name": "stdout"
        },
        {
          "output_type": "display_data",
          "data": {
            "image/png": "[encoded data removed]",
            "text/plain": [
              "<Figure size 1440x468 with 1 Axes>"
            ]
          },
          "metadata": {
            "tags": [],
            "needs_background": "light"
          }
        },
        {
          "output_type": "stream",
          "text": [
            "IBS: 0.1224\n",
            "AUC: 0.8252\n"
          ],
          "name": "stdout"
        },
        {
          "output_type": "execute_result",
          "data": {
            "text/html": [
              "<div>\n",
              "<style scoped>\n",
              "    .dataframe tbody tr th:only-of-type {\n",
              "        vertical-align: middle;\n",
              "    }\n",
              "\n",
              "    .dataframe tbody tr th {\n",
              "        vertical-align: top;\n",
              "    }\n",
              "\n",
              "    .dataframe thead th {\n",
              "        text-align: right;\n",
              "    }\n",
              "</style>\n",
              "<table border=\"1\" class=\"dataframe\">\n",
              "  <thead>\n",
              "    <tr style=\"text-align: right;\">\n",
              "      <th></th>\n",
              "      <th>c_index</th>\n",
              "      <th>ibs</th>\n",
              "      <th>mean_auc</th>\n",
              "      <th>model</th>\n",
              "    </tr>\n",
              "  </thead>\n",
              "  <tbody>\n",
              "    <tr>\n",
              "      <th>0</th>\n",
              "      <td>0.751086</td>\n",
              "      <td>0.121738</td>\n",
              "      <td>0.826968</td>\n",
              "      <td>coxph</td>\n",
              "    </tr>\n",
              "    <tr>\n",
              "      <th>1</th>\n",
              "      <td>0.754814</td>\n",
              "      <td>0.122405</td>\n",
              "      <td>0.825196</td>\n",
              "      <td>nonlinear_coxph</td>\n",
              "    </tr>\n",
              "  </tbody>\n",
              "</table>\n",
              "</div>"
            ],
            "text/plain": [
              "    c_index       ibs  mean_auc            model\n",
              "0  0.751086  0.121738  0.826968            coxph\n",
              "1  0.754814  0.122405  0.825196  nonlinear_coxph"
            ]
          },
          "metadata": {
            "tags": []
          },
          "execution_count": 6
        }
      ]
    },
    {
      "cell_type": "markdown",
      "metadata": {
        "id": "0Kxfv8jJuNwH",
        "colab_type": "text"
      },
      "source": [
        "### Linear MTLR model"
      ]
    },
    {
      "cell_type": "code",
      "metadata": {
        "id": "elHlVy2QuRdh",
        "colab_type": "code",
        "colab": {
          "base_uri": "https://localhost:8080/",
          "height": 609
        },
        "outputId": "2675bb60-e33e-4cc6-c7bd-e8122d42e5ae"
      },
      "source": [
        "from pysurvival.models.multi_task import LinearMultiTaskModel\n",
        "import pandas as pd\n",
        "\n",
        "# Creating an instance of the Linear MTLR model and fitting the data.\n",
        "\n",
        "## Build the model\n",
        "l_mtlr = LinearMultiTaskModel(bins=50)\n",
        "l_mtlr.fit(X_train, T_train, E_train, lr=0.00001, l2_reg=0.001, init_method='orthogonal')\n",
        "\n",
        "## Evaluate model\n",
        "tmp_results = evaluate_model(l_mtlr,X_train,T_train,E_train,X_test,T_test,E_test)\n",
        "tmp_results['model'] = ['l_mtlr']\n",
        "results = pd.concat([results, tmp_results], ignore_index=True)\n",
        "results.head()"
      ],
      "execution_count": 7,
      "outputs": [
        {
          "output_type": "stream",
          "text": [
            "\n"
          ],
          "name": "stderr"
        },
        {
          "output_type": "stream",
          "text": [
            "c-index: 0.5276\n"
          ],
          "name": "stdout"
        },
        {
          "output_type": "display_data",
          "data": {
            "image/png": "[encoded data removed]",
            "text/plain": [
              "<Figure size 1440x468 with 1 Axes>"
            ]
          },
          "metadata": {
            "tags": [],
            "needs_background": "light"
          }
        },
        {
          "output_type": "stream",
          "text": [
            "IBS: 0.2170\n",
            "AUC: 0.5556\n"
          ],
          "name": "stdout"
        },
        {
          "output_type": "execute_result",
          "data": {
            "text/html": [
              "<div>\n",
              "<style scoped>\n",
              "    .dataframe tbody tr th:only-of-type {\n",
              "        vertical-align: middle;\n",
              "    }\n",
              "\n",
              "    .dataframe tbody tr th {\n",
              "        vertical-align: top;\n",
              "    }\n",
              "\n",
              "    .dataframe thead th {\n",
              "        text-align: right;\n",
              "    }\n",
              "</style>\n",
              "<table border=\"1\" class=\"dataframe\">\n",
              "  <thead>\n",
              "    <tr style=\"text-align: right;\">\n",
              "      <th></th>\n",
              "      <th>c_index</th>\n",
              "      <th>ibs</th>\n",
              "      <th>mean_auc</th>\n",
              "      <th>model</th>\n",
              "    </tr>\n",
              "  </thead>\n",
              "  <tbody>\n",
              "    <tr>\n",
              "      <th>0</th>\n",
              "      <td>0.751086</td>\n",
              "      <td>0.121738</td>\n",
              "      <td>0.826968</td>\n",
              "      <td>coxph</td>\n",
              "    </tr>\n",
              "    <tr>\n",
              "      <th>1</th>\n",
              "      <td>0.754814</td>\n",
              "      <td>0.122405</td>\n",
              "      <td>0.825196</td>\n",
              "      <td>nonlinear_coxph</td>\n",
              "    </tr>\n",
              "    <tr>\n",
              "      <th>2</th>\n",
              "      <td>0.527610</td>\n",
              "      <td>0.216992</td>\n",
              "      <td>0.555631</td>\n",
              "      <td>l_mtlr</td>\n",
              "    </tr>\n",
              "  </tbody>\n",
              "</table>\n",
              "</div>"
            ],
            "text/plain": [
              "    c_index       ibs  mean_auc            model\n",
              "0  0.751086  0.121738  0.826968            coxph\n",
              "1  0.754814  0.122405  0.825196  nonlinear_coxph\n",
              "2  0.527610  0.216992  0.555631           l_mtlr"
            ]
          },
          "metadata": {
            "tags": []
          },
          "execution_count": 7
        }
      ]
    },
    {
      "cell_type": "markdown",
      "metadata": {
        "id": "tHeYmKrGuZ1S",
        "colab_type": "text"
      },
      "source": [
        "### Neural MTLR model"
      ]
    },
    {
      "cell_type": "code",
      "metadata": {
        "id": "ITTfCnRruaM-",
        "colab_type": "code",
        "colab": {
          "base_uri": "https://localhost:8080/",
          "height": 638
        },
        "outputId": "ba2814b6-35d5-4d4c-df42-cb318ec1cc26"
      },
      "source": [
        "from pysurvival.models.multi_task import NeuralMultiTaskModel\n",
        "import pandas as pd\n",
        "\n",
        "#### 4 - Creating an instance of the Neural MTLR model and fitting the data.\n",
        "\n",
        "# Defining the MLP structure. Here we will build a 1-hidden layer \n",
        "# with 150 units and `Swish` as its activation function\n",
        "structure = [ {'activation': 'ReLU', 'num_units': 150},  ]\n",
        "\n",
        "# Building the model\n",
        "n_mtlr = NeuralMultiTaskModel(structure=structure, bins=150)\n",
        "n_mtlr.fit(X_train, T_train, E_train, \n",
        "            lr=0.00001, l2_reg=0.001, num_epochs = 500,\n",
        "           init_method='orthogonal', optimizer = 'sgd')\n",
        "\n",
        "## Evaluate model\n",
        "tmp_results = evaluate_model(n_mtlr,X_train,T_train,E_train,X_test,T_test,E_test)\n",
        "tmp_results['model'] = ['n_mtlr']\n",
        "results = pd.concat([results, tmp_results], ignore_index=True)\n",
        "results.head()"
      ],
      "execution_count": 8,
      "outputs": [
        {
          "output_type": "stream",
          "text": [
            "\n"
          ],
          "name": "stderr"
        },
        {
          "output_type": "stream",
          "text": [
            "c-index: 0.7270\n"
          ],
          "name": "stdout"
        },
        {
          "output_type": "display_data",
          "data": {
            "image/png": "[encoded data removed]",
            "text/plain": [
              "<Figure size 1440x468 with 1 Axes>"
            ]
          },
          "metadata": {
            "tags": [],
            "needs_background": "light"
          }
        },
        {
          "output_type": "stream",
          "text": [
            "IBS: 0.1209\n",
            "AUC: 0.8084\n"
          ],
          "name": "stdout"
        },
        {
          "output_type": "execute_result",
          "data": {
            "text/html": [
              "<div>\n",
              "<style scoped>\n",
              "    .dataframe tbody tr th:only-of-type {\n",
              "        vertical-align: middle;\n",
              "    }\n",
              "\n",
              "    .dataframe tbody tr th {\n",
              "        vertical-align: top;\n",
              "    }\n",
              "\n",
              "    .dataframe thead th {\n",
              "        text-align: right;\n",
              "    }\n",
              "</style>\n",
              "<table border=\"1\" class=\"dataframe\">\n",
              "  <thead>\n",
              "    <tr style=\"text-align: right;\">\n",
              "      <th></th>\n",
              "      <th>c_index</th>\n",
              "      <th>ibs</th>\n",
              "      <th>mean_auc</th>\n",
              "      <th>model</th>\n",
              "    </tr>\n",
              "  </thead>\n",
              "  <tbody>\n",
              "    <tr>\n",
              "      <th>0</th>\n",
              "      <td>0.751086</td>\n",
              "      <td>0.121738</td>\n",
              "      <td>0.826968</td>\n",
              "      <td>coxph</td>\n",
              "    </tr>\n",
              "    <tr>\n",
              "      <th>1</th>\n",
              "      <td>0.754814</td>\n",
              "      <td>0.122405</td>\n",
              "      <td>0.825196</td>\n",
              "      <td>nonlinear_coxph</td>\n",
              "    </tr>\n",
              "    <tr>\n",
              "      <th>2</th>\n",
              "      <td>0.527610</td>\n",
              "      <td>0.216992</td>\n",
              "      <td>0.555631</td>\n",
              "      <td>l_mtlr</td>\n",
              "    </tr>\n",
              "    <tr>\n",
              "      <th>3</th>\n",
              "      <td>0.727025</td>\n",
              "      <td>0.120935</td>\n",
              "      <td>0.808445</td>\n",
              "      <td>n_mtlr</td>\n",
              "    </tr>\n",
              "  </tbody>\n",
              "</table>\n",
              "</div>"
            ],
            "text/plain": [
              "    c_index       ibs  mean_auc            model\n",
              "0  0.751086  0.121738  0.826968            coxph\n",
              "1  0.754814  0.122405  0.825196  nonlinear_coxph\n",
              "2  0.527610  0.216992  0.555631           l_mtlr\n",
              "3  0.727025  0.120935  0.808445           n_mtlr"
            ]
          },
          "metadata": {
            "tags": []
          },
          "execution_count": 8
        }
      ]
    },
    {
      "cell_type": "markdown",
      "metadata": {
        "id": "cBsNU5lnuhtj",
        "colab_type": "text"
      },
      "source": [
        "### Parametric Weibull Model"
      ]
    },
    {
      "cell_type": "code",
      "metadata": {
        "id": "-Z4kYSa2uh_u",
        "colab_type": "code",
        "colab": {
          "base_uri": "https://localhost:8080/",
          "height": 668
        },
        "outputId": "30d4bbf9-464d-404c-cd94-a2d152be0bd5"
      },
      "source": [
        "from pysurvival.models.parametric import WeibullModel\n",
        "import pandas as pd\n",
        "\n",
        "# Creating an instance of the weibertz model and fitting the data.\n",
        "\n",
        "## Build the model\n",
        "weib = WeibullModel()\n",
        "weib.fit(X_train, T_train, E_train, lr=0.0001, init_method='zeros',\n",
        "    optimizer ='adam', l2_reg = 0.001, num_epochs=2000)\n",
        "\n",
        "## Evaluate model\n",
        "tmp_results = evaluate_model(weib,X_train,T_train,E_train,X_test,T_test,E_test)\n",
        "tmp_results['model'] = ['weib']\n",
        "results = pd.concat([results, tmp_results], ignore_index=True)\n",
        "results.head()"
      ],
      "execution_count": 9,
      "outputs": [
        {
          "output_type": "stream",
          "text": [
            "\n"
          ],
          "name": "stderr"
        },
        {
          "output_type": "stream",
          "text": [
            "c-index: 0.6728\n"
          ],
          "name": "stdout"
        },
        {
          "output_type": "display_data",
          "data": {
            "image/png": "[encoded data removed]",
            "text/plain": [
              "<Figure size 1440x468 with 1 Axes>"
            ]
          },
          "metadata": {
            "tags": [],
            "needs_background": "light"
          }
        },
        {
          "output_type": "stream",
          "text": [
            "IBS: 0.7294\n",
            "AUC: 0.7332\n"
          ],
          "name": "stdout"
        },
        {
          "output_type": "execute_result",
          "data": {
            "text/html": [
              "<div>\n",
              "<style scoped>\n",
              "    .dataframe tbody tr th:only-of-type {\n",
              "        vertical-align: middle;\n",
              "    }\n",
              "\n",
              "    .dataframe tbody tr th {\n",
              "        vertical-align: top;\n",
              "    }\n",
              "\n",
              "    .dataframe thead th {\n",
              "        text-align: right;\n",
              "    }\n",
              "</style>\n",
              "<table border=\"1\" class=\"dataframe\">\n",
              "  <thead>\n",
              "    <tr style=\"text-align: right;\">\n",
              "      <th></th>\n",
              "      <th>c_index</th>\n",
              "      <th>ibs</th>\n",
              "      <th>mean_auc</th>\n",
              "      <th>model</th>\n",
              "    </tr>\n",
              "  </thead>\n",
              "  <tbody>\n",
              "    <tr>\n",
              "      <th>0</th>\n",
              "      <td>0.751086</td>\n",
              "      <td>0.121738</td>\n",
              "      <td>0.826968</td>\n",
              "      <td>coxph</td>\n",
              "    </tr>\n",
              "    <tr>\n",
              "      <th>1</th>\n",
              "      <td>0.754814</td>\n",
              "      <td>0.122405</td>\n",
              "      <td>0.825196</td>\n",
              "      <td>nonlinear_coxph</td>\n",
              "    </tr>\n",
              "    <tr>\n",
              "      <th>2</th>\n",
              "      <td>0.527610</td>\n",
              "      <td>0.216992</td>\n",
              "      <td>0.555631</td>\n",
              "      <td>l_mtlr</td>\n",
              "    </tr>\n",
              "    <tr>\n",
              "      <th>3</th>\n",
              "      <td>0.727025</td>\n",
              "      <td>0.120935</td>\n",
              "      <td>0.808445</td>\n",
              "      <td>n_mtlr</td>\n",
              "    </tr>\n",
              "    <tr>\n",
              "      <th>4</th>\n",
              "      <td>0.672846</td>\n",
              "      <td>0.729390</td>\n",
              "      <td>0.733157</td>\n",
              "      <td>weib</td>\n",
              "    </tr>\n",
              "  </tbody>\n",
              "</table>\n",
              "</div>"
            ],
            "text/plain": [
              "    c_index       ibs  mean_auc            model\n",
              "0  0.751086  0.121738  0.826968            coxph\n",
              "1  0.754814  0.122405  0.825196  nonlinear_coxph\n",
              "2  0.527610  0.216992  0.555631           l_mtlr\n",
              "3  0.727025  0.120935  0.808445           n_mtlr\n",
              "4  0.672846  0.729390  0.733157             weib"
            ]
          },
          "metadata": {
            "tags": []
          },
          "execution_count": 9
        }
      ]
    },
    {
      "cell_type": "markdown",
      "metadata": {
        "id": "pyCtOfP3wEYk",
        "colab_type": "text"
      },
      "source": [
        "### Random Survival Forest model"
      ]
    },
    {
      "cell_type": "code",
      "metadata": {
        "id": "IYztYdgCwDx-",
        "colab_type": "code",
        "colab": {
          "base_uri": "https://localhost:8080/",
          "height": 651
        },
        "outputId": "72729a5a-1830-467e-92a0-801a6dfdc254"
      },
      "source": [
        "from pysurvival.models.survival_forest import RandomSurvivalForestModel\n",
        "import pandas as pd\n",
        "\n",
        "## Build the model\n",
        "rsf = RandomSurvivalForestModel(num_trees=50)\n",
        "rsf.fit(X_train, T_train, E_train,\n",
        "        max_features=\"sqrt\", max_depth=5, min_node_size=20)\n",
        "\n",
        "## Evaluate model\n",
        "tmp_results = evaluate_model(rsf,X_train,T_train,E_train,X_test,T_test,E_test)\n",
        "tmp_results['model'] = ['rsf']\n",
        "results = pd.concat([results, tmp_results], ignore_index=True)\n",
        "results.head()"
      ],
      "execution_count": 10,
      "outputs": [
        {
          "output_type": "stream",
          "text": [
            "c-index: 0.7536\n"
          ],
          "name": "stdout"
        },
        {
          "output_type": "display_data",
          "data": {
            "image/png": "[encoded data removed]",
            "text/plain": [
              "<Figure size 1440x468 with 1 Axes>"
            ]
          },
          "metadata": {
            "tags": [],
            "needs_background": "light"
          }
        },
        {
          "output_type": "stream",
          "text": [
            "IBS: 0.1209\n",
            "AUC: 0.8388\n"
          ],
          "name": "stdout"
        },
        {
          "output_type": "execute_result",
          "data": {
            "text/html": [
              "<div>\n",
              "<style scoped>\n",
              "    .dataframe tbody tr th:only-of-type {\n",
              "        vertical-align: middle;\n",
              "    }\n",
              "\n",
              "    .dataframe tbody tr th {\n",
              "        vertical-align: top;\n",
              "    }\n",
              "\n",
              "    .dataframe thead th {\n",
              "        text-align: right;\n",
              "    }\n",
              "</style>\n",
              "<table border=\"1\" class=\"dataframe\">\n",
              "  <thead>\n",
              "    <tr style=\"text-align: right;\">\n",
              "      <th></th>\n",
              "      <th>c_index</th>\n",
              "      <th>ibs</th>\n",
              "      <th>mean_auc</th>\n",
              "      <th>model</th>\n",
              "    </tr>\n",
              "  </thead>\n",
              "  <tbody>\n",
              "    <tr>\n",
              "      <th>0</th>\n",
              "      <td>0.751086</td>\n",
              "      <td>0.121738</td>\n",
              "      <td>0.826968</td>\n",
              "      <td>coxph</td>\n",
              "    </tr>\n",
              "    <tr>\n",
              "      <th>1</th>\n",
              "      <td>0.754814</td>\n",
              "      <td>0.122405</td>\n",
              "      <td>0.825196</td>\n",
              "      <td>nonlinear_coxph</td>\n",
              "    </tr>\n",
              "    <tr>\n",
              "      <th>2</th>\n",
              "      <td>0.527610</td>\n",
              "      <td>0.216992</td>\n",
              "      <td>0.555631</td>\n",
              "      <td>l_mtlr</td>\n",
              "    </tr>\n",
              "    <tr>\n",
              "      <th>3</th>\n",
              "      <td>0.727025</td>\n",
              "      <td>0.120935</td>\n",
              "      <td>0.808445</td>\n",
              "      <td>n_mtlr</td>\n",
              "    </tr>\n",
              "    <tr>\n",
              "      <th>4</th>\n",
              "      <td>0.672846</td>\n",
              "      <td>0.729390</td>\n",
              "      <td>0.733157</td>\n",
              "      <td>weib</td>\n",
              "    </tr>\n",
              "  </tbody>\n",
              "</table>\n",
              "</div>"
            ],
            "text/plain": [
              "    c_index       ibs  mean_auc            model\n",
              "0  0.751086  0.121738  0.826968            coxph\n",
              "1  0.754814  0.122405  0.825196  nonlinear_coxph\n",
              "2  0.527610  0.216992  0.555631           l_mtlr\n",
              "3  0.727025  0.120935  0.808445           n_mtlr\n",
              "4  0.672846  0.729390  0.733157             weib"
            ]
          },
          "metadata": {
            "tags": []
          },
          "execution_count": 10
        }
      ]
    },
    {
      "cell_type": "markdown",
      "metadata": {
        "id": "8iU94t4_wOIi",
        "colab_type": "text"
      },
      "source": [
        "### Linear SVM model"
      ]
    },
    {
      "cell_type": "code",
      "metadata": {
        "id": "IR3YYCjewPQh",
        "colab_type": "code",
        "colab": {
          "base_uri": "https://localhost:8080/",
          "height": 1000
        },
        "outputId": "f2cfdb49-7ff2-4fb3-8ede-9e34bd5e9d63"
      },
      "source": [
        "from pysurvival.models.svm import LinearSVMModel\n",
        "import pandas as pd\n",
        "\n",
        "# Creating an instance of the Linear SVM model and fitting the data.\n",
        "## Build Model\n",
        "svm_l = LinearSVMModel()\n",
        "svm_l.fit(X_train, T_train, E_train, init_method='he_uniform',\n",
        "    with_bias = True, lr = 0.5,  tol = 1e-3,  l2_reg = 1e-3)\n",
        "\n",
        "## Evaluate model\n",
        "tmp_results = evaluate_model(svm_l,X_train,T_train,E_train,X_test,T_test,E_test,ibs=False)\n",
        "tmp_results['model'] = ['svm_l']\n",
        "results = pd.concat([results, tmp_results], ignore_index=True)\n",
        "results.head()"
      ],
      "execution_count": 11,
      "outputs": [
        {
          "output_type": "stream",
          "text": [
            "Performing Newton-Raphson optimization: \n",
            " * Iteration #1 - Loss = 8398.174 - ||grad||^2 = 12434.67353 - ||diff_w|| = 20.76762\n",
            " * Iteration #2 - Loss = 2157.578 - ||grad||^2 = 6367.52544 - ||diff_w|| = 9.31410\n",
            " * Iteration #3 - Loss = 683.431 - ||grad||^2 = 3612.19122 - ||diff_w|| = 5.05639\n",
            " * Iteration #4 - Loss = 230.443 - ||grad||^2 = 2003.26608 - ||diff_w|| = 2.60201\n",
            " * Iteration #5 - Loss = 102.173 - ||grad||^2 = 1001.36599 - ||diff_w|| = 1.14542\n",
            " * Iteration #6 - Loss = 73.959 - ||grad||^2 = 524.38782 - ||diff_w|| = 0.55526\n",
            " * Iteration #7 - Loss = 68.320 - ||grad||^2 = 263.41298 - ||diff_w|| = 0.29407\n",
            " * Iteration #8 - Loss = 67.745 - ||grad||^2 = 114.74788 - ||diff_w|| = 0.15193\n",
            " * Iteration #9 - Loss = 67.821 - ||grad||^2 = 47.32889 - ||diff_w|| = 0.07620\n",
            " * Iteration #10 - Loss = 67.869 - ||grad||^2 = 20.07897 - ||diff_w|| = 0.03868\n",
            " * Iteration #11 - Loss = 67.876 - ||grad||^2 = 8.99888 - ||diff_w|| = 0.01988\n",
            " * Iteration #12 - Loss = 67.877 - ||grad||^2 = 4.22015 - ||diff_w|| = 0.01043\n",
            " * Iteration #13 - Loss = 67.879 - ||grad||^2 = 1.98804 - ||diff_w|| = 0.00553\n",
            " * Iteration #14 - Loss = 67.880 - ||grad||^2 = 0.96800 - ||diff_w|| = 0.00302\n",
            " * Iteration #15 - Loss = 67.879 - ||grad||^2 = 0.50118 - ||diff_w|| = 0.00165\n",
            " * Iteration #16 - Loss = 67.879 - ||grad||^2 = 0.25097 - ||diff_w|| = 0.00089\n",
            " * Iteration #17 - Loss = 67.879 - ||grad||^2 = 0.12812 - ||diff_w|| = 0.00050\n",
            " * Iteration #18 - Loss = 67.880 - ||grad||^2 = 0.06845 - ||diff_w|| = 0.00029\n",
            " * Iteration #19 - Loss = 67.878 - ||grad||^2 = 0.06473 - ||diff_w|| = 0.00018\n",
            " * Iteration #20 - Loss = 67.879 - ||grad||^2 = 0.03829 - ||diff_w|| = 0.00012\n",
            " * Iteration #21 - Loss = 67.879 - ||grad||^2 = 0.04780 - ||diff_w|| = 0.00011\n",
            " * Iteration #22 - Loss = 67.879 - ||grad||^2 = 0.03875 - ||diff_w|| = 0.00008\n",
            " * Iteration #23 - Loss = 67.879 - ||grad||^2 = 0.02735 - ||diff_w|| = 0.00004\n",
            " * Iteration #24 - Loss = 67.879 - ||grad||^2 = 0.02841 - ||diff_w|| = 0.00005\n",
            " * Iteration #25 - Loss = 67.879 - ||grad||^2 = 0.04791 - ||diff_w|| = 0.00009\n",
            " * Iteration #26 - Loss = 67.879 - ||grad||^2 = 0.03626 - ||diff_w|| = 0.00007\n",
            " * Iteration #27 - Loss = 67.878 - ||grad||^2 = 0.03907 - ||diff_w|| = 0.00006\n",
            " * Iteration #28 - Loss = 67.879 - ||grad||^2 = 0.03295 - ||diff_w|| = 0.00006\n",
            " * Iteration #29 - Loss = 67.879 - ||grad||^2 = 0.04516 - ||diff_w|| = 0.00009\n",
            " * Iteration #30 - Loss = 67.879 - ||grad||^2 = 0.03765 - ||diff_w|| = 0.00007\n",
            " * Iteration #31 - Loss = 67.879 - ||grad||^2 = 0.02707 - ||diff_w|| = 0.00004\n",
            " * Iteration #32 - Loss = 67.879 - ||grad||^2 = 0.02823 - ||diff_w|| = 0.00005\n",
            " * Iteration #33 - Loss = 67.879 - ||grad||^2 = 0.04773 - ||diff_w|| = 0.00009\n",
            " * Iteration #34 - Loss = 67.879 - ||grad||^2 = 0.03623 - ||diff_w|| = 0.00007\n",
            " * Iteration #35 - Loss = 67.878 - ||grad||^2 = 0.03904 - ||diff_w|| = 0.00006\n",
            " * Iteration #36 - Loss = 67.879 - ||grad||^2 = 0.03296 - ||diff_w|| = 0.00006\n",
            " * Iteration #37 - Loss = 67.879 - ||grad||^2 = 0.04515 - ||diff_w|| = 0.00009\n",
            " * Iteration #38 - Loss = 67.879 - ||grad||^2 = 0.03765 - ||diff_w|| = 0.00007\n",
            " * Iteration #39 - Loss = 67.879 - ||grad||^2 = 0.02707 - ||diff_w|| = 0.00004\n",
            " * Iteration #40 - Loss = 67.879 - ||grad||^2 = 0.02823 - ||diff_w|| = 0.00005\n",
            " * Iteration #41 - Loss = 67.879 - ||grad||^2 = 0.04773 - ||diff_w|| = 0.00009\n",
            " * Iteration #42 - Loss = 67.879 - ||grad||^2 = 0.03623 - ||diff_w|| = 0.00007\n",
            " * Iteration #43 - Loss = 67.878 - ||grad||^2 = 0.03904 - ||diff_w|| = 0.00006\n",
            " * Iteration #44 - Loss = 67.879 - ||grad||^2 = 0.03296 - ||diff_w|| = 0.00006\n",
            " * Iteration #45 - Loss = 67.879 - ||grad||^2 = 0.04515 - ||diff_w|| = 0.00009\n",
            " * Iteration #46 - Loss = 67.879 - ||grad||^2 = 0.03765 - ||diff_w|| = 0.00007\n",
            " * Iteration #47 - Loss = 67.879 - ||grad||^2 = 0.02707 - ||diff_w|| = 0.00004\n",
            " * Iteration #48 - Loss = 67.879 - ||grad||^2 = 0.02823 - ||diff_w|| = 0.00005\n",
            " * Iteration #49 - Loss = 67.879 - ||grad||^2 = 0.04773 - ||diff_w|| = 0.00009\n",
            " * Iteration #50 - Loss = 67.879 - ||grad||^2 = 0.03623 - ||diff_w|| = 0.00007\n",
            " * Iteration #51 - Loss = 67.878 - ||grad||^2 = 0.03904 - ||diff_w|| = 0.00006\n",
            " * Iteration #52 - Loss = 67.879 - ||grad||^2 = 0.03296 - ||diff_w|| = 0.00006\n",
            " * Iteration #53 - Loss = 67.879 - ||grad||^2 = 0.04515 - ||diff_w|| = 0.00009\n",
            " * Iteration #54 - Loss = 67.879 - ||grad||^2 = 0.03765 - ||diff_w|| = 0.00007\n",
            " * Iteration #55 - Loss = 67.879 - ||grad||^2 = 0.02707 - ||diff_w|| = 0.00004\n",
            " * Iteration #56 - Loss = 67.879 - ||grad||^2 = 0.02823 - ||diff_w|| = 0.00005\n",
            " * Iteration #57 - Loss = 67.879 - ||grad||^2 = 0.04773 - ||diff_w|| = 0.00009\n",
            " * Iteration #58 - Loss = 67.879 - ||grad||^2 = 0.03623 - ||diff_w|| = 0.00007\n",
            " * Iteration #59 - Loss = 67.878 - ||grad||^2 = 0.03904 - ||diff_w|| = 0.00006\n",
            " * Iteration #60 - Loss = 67.879 - ||grad||^2 = 0.03296 - ||diff_w|| = 0.00006\n",
            " * Iteration #61 - Loss = 67.879 - ||grad||^2 = 0.04515 - ||diff_w|| = 0.00009\n",
            " * Iteration #62 - Loss = 67.879 - ||grad||^2 = 0.03765 - ||diff_w|| = 0.00007\n",
            " * Iteration #63 - Loss = 67.879 - ||grad||^2 = 0.02707 - ||diff_w|| = 0.00004\n",
            " * Iteration #64 - Loss = 67.879 - ||grad||^2 = 0.02823 - ||diff_w|| = 0.00005\n",
            " * Iteration #65 - Loss = 67.879 - ||grad||^2 = 0.04773 - ||diff_w|| = 0.00009\n",
            " * Iteration #66 - Loss = 67.879 - ||grad||^2 = 0.03623 - ||diff_w|| = 0.00007\n",
            " * Iteration #67 - Loss = 67.878 - ||grad||^2 = 0.03904 - ||diff_w|| = 0.00006\n",
            " * Iteration #68 - Loss = 67.879 - ||grad||^2 = 0.03296 - ||diff_w|| = 0.00006\n",
            " * Iteration #69 - Loss = 67.879 - ||grad||^2 = 0.04515 - ||diff_w|| = 0.00009\n",
            " * Iteration #70 - Loss = 67.879 - ||grad||^2 = 0.03765 - ||diff_w|| = 0.00007\n",
            " * Iteration #71 - Loss = 67.879 - ||grad||^2 = 0.02707 - ||diff_w|| = 0.00004\n",
            " * Iteration #72 - Loss = 67.879 - ||grad||^2 = 0.02823 - ||diff_w|| = 0.00005\n",
            " * Iteration #73 - Loss = 67.879 - ||grad||^2 = 0.04773 - ||diff_w|| = 0.00009\n",
            " * Iteration #74 - Loss = 67.879 - ||grad||^2 = 0.03623 - ||diff_w|| = 0.00007\n",
            " * Iteration #75 - Loss = 67.878 - ||grad||^2 = 0.03904 - ||diff_w|| = 0.00006\n",
            " * Iteration #76 - Loss = 67.879 - ||grad||^2 = 0.03296 - ||diff_w|| = 0.00006\n",
            " * Iteration #77 - Loss = 67.879 - ||grad||^2 = 0.04515 - ||diff_w|| = 0.00009\n",
            " * Iteration #78 - Loss = 67.879 - ||grad||^2 = 0.03765 - ||diff_w|| = 0.00007\n",
            " * Iteration #79 - Loss = 67.879 - ||grad||^2 = 0.02707 - ||diff_w|| = 0.00004\n",
            " * Iteration #80 - Loss = 67.879 - ||grad||^2 = 0.02823 - ||diff_w|| = 0.00005\n",
            " * Iteration #81 - Loss = 67.879 - ||grad||^2 = 0.04773 - ||diff_w|| = 0.00009\n",
            " * Iteration #82 - Loss = 67.879 - ||grad||^2 = 0.03623 - ||diff_w|| = 0.00007\n",
            " * Iteration #83 - Loss = 67.878 - ||grad||^2 = 0.03904 - ||diff_w|| = 0.00006\n",
            " * Iteration #84 - Loss = 67.879 - ||grad||^2 = 0.03296 - ||diff_w|| = 0.00006\n",
            " * Iteration #85 - Loss = 67.879 - ||grad||^2 = 0.04515 - ||diff_w|| = 0.00009\n",
            " * Iteration #86 - Loss = 67.879 - ||grad||^2 = 0.03765 - ||diff_w|| = 0.00007\n",
            " * Iteration #87 - Loss = 67.879 - ||grad||^2 = 0.02707 - ||diff_w|| = 0.00004\n",
            " * Iteration #88 - Loss = 67.879 - ||grad||^2 = 0.02823 - ||diff_w|| = 0.00005\n",
            " * Iteration #89 - Loss = 67.879 - ||grad||^2 = 0.04773 - ||diff_w|| = 0.00009\n",
            " * Iteration #90 - Loss = 67.879 - ||grad||^2 = 0.03623 - ||diff_w|| = 0.00007\n",
            " * Iteration #91 - Loss = 67.878 - ||grad||^2 = 0.03904 - ||diff_w|| = 0.00006\n",
            " * Iteration #92 - Loss = 67.879 - ||grad||^2 = 0.03296 - ||diff_w|| = 0.00006\n",
            " * Iteration #93 - Loss = 67.879 - ||grad||^2 = 0.04515 - ||diff_w|| = 0.00009\n",
            " * Iteration #94 - Loss = 67.879 - ||grad||^2 = 0.03765 - ||diff_w|| = 0.00007\n",
            " * Iteration #95 - Loss = 67.879 - ||grad||^2 = 0.02707 - ||diff_w|| = 0.00004\n",
            " * Iteration #96 - Loss = 67.879 - ||grad||^2 = 0.02823 - ||diff_w|| = 0.00005\n",
            " * Iteration #97 - Loss = 67.879 - ||grad||^2 = 0.04773 - ||diff_w|| = 0.00009\n",
            " * Iteration #98 - Loss = 67.879 - ||grad||^2 = 0.03623 - ||diff_w|| = 0.00007\n",
            " * Iteration #99 - Loss = 67.878 - ||grad||^2 = 0.03904 - ||diff_w|| = 0.00006\n",
            " * Iteration #100 - Loss = 67.879 - ||grad||^2 = 0.03296 - ||diff_w|| = 0.00006\n",
            "Optimization reached max number of iterations.\n",
            "c-index: 0.7561\n",
            "AUC: 0.1667\n"
          ],
          "name": "stdout"
        },
        {
          "output_type": "execute_result",
          "data": {
            "text/html": [
              "<div>\n",
              "<style scoped>\n",
              "    .dataframe tbody tr th:only-of-type {\n",
              "        vertical-align: middle;\n",
              "    }\n",
              "\n",
              "    .dataframe tbody tr th {\n",
              "        vertical-align: top;\n",
              "    }\n",
              "\n",
              "    .dataframe thead th {\n",
              "        text-align: right;\n",
              "    }\n",
              "</style>\n",
              "<table border=\"1\" class=\"dataframe\">\n",
              "  <thead>\n",
              "    <tr style=\"text-align: right;\">\n",
              "      <th></th>\n",
              "      <th>c_index</th>\n",
              "      <th>ibs</th>\n",
              "      <th>mean_auc</th>\n",
              "      <th>model</th>\n",
              "    </tr>\n",
              "  </thead>\n",
              "  <tbody>\n",
              "    <tr>\n",
              "      <th>0</th>\n",
              "      <td>0.751086</td>\n",
              "      <td>0.121738</td>\n",
              "      <td>0.826968</td>\n",
              "      <td>coxph</td>\n",
              "    </tr>\n",
              "    <tr>\n",
              "      <th>1</th>\n",
              "      <td>0.754814</td>\n",
              "      <td>0.122405</td>\n",
              "      <td>0.825196</td>\n",
              "      <td>nonlinear_coxph</td>\n",
              "    </tr>\n",
              "    <tr>\n",
              "      <th>2</th>\n",
              "      <td>0.527610</td>\n",
              "      <td>0.216992</td>\n",
              "      <td>0.555631</td>\n",
              "      <td>l_mtlr</td>\n",
              "    </tr>\n",
              "    <tr>\n",
              "      <th>3</th>\n",
              "      <td>0.727025</td>\n",
              "      <td>0.120935</td>\n",
              "      <td>0.808445</td>\n",
              "      <td>n_mtlr</td>\n",
              "    </tr>\n",
              "    <tr>\n",
              "      <th>4</th>\n",
              "      <td>0.672846</td>\n",
              "      <td>0.729390</td>\n",
              "      <td>0.733157</td>\n",
              "      <td>weib</td>\n",
              "    </tr>\n",
              "  </tbody>\n",
              "</table>\n",
              "</div>"
            ],
            "text/plain": [
              "    c_index       ibs  mean_auc            model\n",
              "0  0.751086  0.121738  0.826968            coxph\n",
              "1  0.754814  0.122405  0.825196  nonlinear_coxph\n",
              "2  0.527610  0.216992  0.555631           l_mtlr\n",
              "3  0.727025  0.120935  0.808445           n_mtlr\n",
              "4  0.672846  0.729390  0.733157             weib"
            ]
          },
          "metadata": {
            "tags": []
          },
          "execution_count": 11
        }
      ]
    },
    {
      "cell_type": "markdown",
      "metadata": {
        "id": "DUcrvWmcwa5u",
        "colab_type": "text"
      },
      "source": [
        "### Evaluate Results"
      ]
    },
    {
      "cell_type": "code",
      "metadata": {
        "id": "yeRzBFMdweG5",
        "colab_type": "code",
        "colab": {
          "base_uri": "https://localhost:8080/",
          "height": 254
        },
        "outputId": "b10077c5-3b27-4784-9011-2c96b8748410"
      },
      "source": [
        "# Show results table\n",
        "\n",
        "results.round(2).head(10)"
      ],
      "execution_count": 14,
      "outputs": [
        {
          "output_type": "execute_result",
          "data": {
            "text/html": [
              "<div>\n",
              "<style scoped>\n",
              "    .dataframe tbody tr th:only-of-type {\n",
              "        vertical-align: middle;\n",
              "    }\n",
              "\n",
              "    .dataframe tbody tr th {\n",
              "        vertical-align: top;\n",
              "    }\n",
              "\n",
              "    .dataframe thead th {\n",
              "        text-align: right;\n",
              "    }\n",
              "</style>\n",
              "<table border=\"1\" class=\"dataframe\">\n",
              "  <thead>\n",
              "    <tr style=\"text-align: right;\">\n",
              "      <th></th>\n",
              "      <th>c_index</th>\n",
              "      <th>ibs</th>\n",
              "      <th>mean_auc</th>\n",
              "      <th>model</th>\n",
              "    </tr>\n",
              "  </thead>\n",
              "  <tbody>\n",
              "    <tr>\n",
              "      <th>0</th>\n",
              "      <td>0.75</td>\n",
              "      <td>0.12</td>\n",
              "      <td>0.83</td>\n",
              "      <td>coxph</td>\n",
              "    </tr>\n",
              "    <tr>\n",
              "      <th>1</th>\n",
              "      <td>0.75</td>\n",
              "      <td>0.12</td>\n",
              "      <td>0.83</td>\n",
              "      <td>nonlinear_coxph</td>\n",
              "    </tr>\n",
              "    <tr>\n",
              "      <th>2</th>\n",
              "      <td>0.53</td>\n",
              "      <td>0.22</td>\n",
              "      <td>0.56</td>\n",
              "      <td>l_mtlr</td>\n",
              "    </tr>\n",
              "    <tr>\n",
              "      <th>3</th>\n",
              "      <td>0.73</td>\n",
              "      <td>0.12</td>\n",
              "      <td>0.81</td>\n",
              "      <td>n_mtlr</td>\n",
              "    </tr>\n",
              "    <tr>\n",
              "      <th>4</th>\n",
              "      <td>0.67</td>\n",
              "      <td>0.73</td>\n",
              "      <td>0.73</td>\n",
              "      <td>weib</td>\n",
              "    </tr>\n",
              "    <tr>\n",
              "      <th>5</th>\n",
              "      <td>0.75</td>\n",
              "      <td>0.12</td>\n",
              "      <td>0.84</td>\n",
              "      <td>rsf</td>\n",
              "    </tr>\n",
              "    <tr>\n",
              "      <th>6</th>\n",
              "      <td>0.76</td>\n",
              "      <td>1.00</td>\n",
              "      <td>0.17</td>\n",
              "      <td>svm_l</td>\n",
              "    </tr>\n",
              "  </tbody>\n",
              "</table>\n",
              "</div>"
            ],
            "text/plain": [
              "   c_index   ibs  mean_auc            model\n",
              "0     0.75  0.12      0.83            coxph\n",
              "1     0.75  0.12      0.83  nonlinear_coxph\n",
              "2     0.53  0.22      0.56           l_mtlr\n",
              "3     0.73  0.12      0.81           n_mtlr\n",
              "4     0.67  0.73      0.73             weib\n",
              "5     0.75  0.12      0.84              rsf\n",
              "6     0.76  1.00      0.17            svm_l"
            ]
          },
          "metadata": {
            "tags": []
          },
          "execution_count": 14
        }
      ]
    },
    {
      "cell_type": "code",
      "metadata": {
        "id": "uK89wUd4MLF7",
        "colab_type": "code",
        "colab": {
          "base_uri": "https://localhost:8080/",
          "height": 67
        },
        "outputId": "3751c825-0c93-4bf7-e3f1-aa850f363cb0"
      },
      "source": [
        "print('max c_index is on line:{}'.format(results['c_index'].idxmax()))\n",
        "print('max mean_auc is on line:{}'.format(results['mean_auc'].idxmax()))\n",
        "print('min ibs is on line:{}'.format(results['ibs'].idxmin()))"
      ],
      "execution_count": 13,
      "outputs": [
        {
          "output_type": "stream",
          "text": [
            "max c_index is on line:6\n",
            "max mean_auc is on line:5\n",
            "min ibs is on line:5\n"
          ],
          "name": "stdout"
        }
      ]
    }
  ]
}